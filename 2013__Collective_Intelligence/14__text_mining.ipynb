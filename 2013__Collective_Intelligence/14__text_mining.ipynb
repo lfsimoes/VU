{
 "metadata": {
  "name": ""
 },
 "nbformat": 3,
 "nbformat_minor": 0,
 "worksheets": [
  {
   "cells": [
    {
     "cell_type": "heading",
     "level": 1,
     "metadata": {},
     "source": [
      "Text mining"
     ]
    },
    {
     "cell_type": "markdown",
     "metadata": {},
     "source": [
      "[Lu\u00eds F. Sim\u00f5es](mailto:luis.simoes@vu.nl)<br>\n",
      "2013-11-08 *(updated: 2013-11-12)*<div style=\"float: right\">`Notebooks:` [previous &larr;](http://nbviewer.ipython.org/urls/raw.github.com/lfsimoes/VU/master/2013__Collective_Intelligence/13__network_analysis.ipynb) &bull; [index &uarr;](https://github.com/lfsimoes/VU/tree/master/2013__Collective_Intelligence)</div><br><br>\n",
      "\n",
      "*******"
     ]
    },
    {
     "cell_type": "markdown",
     "metadata": {},
     "source": [
      "This notebook provides some basic examples of how to process textual data.\n",
      "\n",
      "You have in the [Natural Language Toolkit (NLTK)](http://nltk.org/), and [CLiPS Pattern](http://www.clips.ua.ac.be/pages/pattern), sophisticated libraries for natural language processing with Python, which you are free to deploy over this data."
     ]
    },
    {
     "cell_type": "heading",
     "level": 2,
     "metadata": {},
     "source": [
      "Loading modules & datasets"
     ]
    },
    {
     "cell_type": "code",
     "collapsed": false,
     "input": [
      "import cPickle, bz2\n",
      "from collections import *\n",
      "\n",
      "import numpy as np"
     ],
     "language": "python",
     "metadata": {},
     "outputs": [],
     "prompt_number": 1
    },
    {
     "cell_type": "code",
     "collapsed": false,
     "input": [
      "search_term = 'evolution'\n",
      "\n",
      "Summaries_file = search_term + '__Summaries.pkl.bz2'\n",
      "Abstracts_file = search_term + '__Abstracts.pkl.bz2'"
     ],
     "language": "python",
     "metadata": {},
     "outputs": [],
     "prompt_number": 2
    },
    {
     "cell_type": "code",
     "collapsed": false,
     "input": [
      "Summaries = cPickle.load( bz2.BZ2File( Summaries_file, 'rb' ) )\n",
      "\n",
      "paper = namedtuple( 'paper', ['title', 'authors', 'year', 'doi'] )\n",
      "\n",
      "for (id, paper_info) in Summaries.iteritems():\n",
      "    Summaries[id] = paper( *paper_info )"
     ],
     "language": "python",
     "metadata": {},
     "outputs": [],
     "prompt_number": 3
    },
    {
     "cell_type": "code",
     "collapsed": false,
     "input": [
      "Abstracts = cPickle.load( bz2.BZ2File( Abstracts_file, 'rb' ) )"
     ],
     "language": "python",
     "metadata": {},
     "outputs": [],
     "prompt_number": 4
    },
    {
     "cell_type": "heading",
     "level": 2,
     "metadata": {},
     "source": [
      "Abstracts dataset"
     ]
    },
    {
     "cell_type": "code",
     "collapsed": false,
     "input": [
      "with_abstr = sum( 1 for a in Abstracts.itervalues() if a!='' )\n",
      "print 'Abstracts available for %d (%.2f %%) of the papers in the dataset.' % (with_abstr, 100.*with_abstr/len(Abstracts))"
     ],
     "language": "python",
     "metadata": {},
     "outputs": [
      {
       "output_type": "stream",
       "stream": "stdout",
       "text": [
        "Abstracts available for 187060 (91.10 %) of the papers in the dataset.\n"
       ]
      }
     ],
     "prompt_number": 5
    },
    {
     "cell_type": "heading",
     "level": 3,
     "metadata": {},
     "source": [
      "[Bag-of-words model](https://en.wikipedia.org/wiki/Bag-of-words_model)"
     ]
    },
    {
     "cell_type": "markdown",
     "metadata": {},
     "source": [
      "Here we'll find out how to represent text by vectors of word frequencies.\n",
      "\n",
      "Given a string (or several), the function below will remove a few eventual characters from it, convert all characters to lower case, split it by spaces, and then return a counter showing the number of times each word occurs.\n",
      "\n",
      "Should you prefer to bring heavier weaponry into this same task, have a look at Python's [regular expressions](http://docs.python.org/2/library/re.html) module.\n",
      "\n",
      "> *Implementation note*: [list comprehension](http://docs.python.org/2/tutorial/datastructures.html#list-comprehensions) (additional examples [here](http://www.pythonforbeginners.com/lists/list-comprehensions-in-python/)) has been used extensively in these examples. In the function below, however, you'll note that the same syntax is used, but the square brackets are replaced by parentheses. Those are [generator expressions](http://www.python.org/dev/peps/pep-0289/), which create objects meant for a single iteration over the resulting sequence. Given the volume of data we are handling, such expressions can provide very significant savings in memory consumption, and also computation time."
     ]
    },
    {
     "cell_type": "code",
     "collapsed": false,
     "input": [
      "def word_freq( text ):\n",
      "    \"\"\"\n",
      "    Splits text into words, and counts their occurrence frequencies.\n",
      "    \"\"\"\n",
      "    if isinstance(text, basestring):\n",
      "        # if a string (or unicode string) was sent, put it into a single element tuple\n",
      "        text = (text,)\n",
      "    \n",
      "    # performs character substitutions/removals, converts to lower case, and splits by spaces\n",
      "    text_clean = (\n",
      "        txt.replace('/',' ').replace(',',' ').replace('.',' ').replace('(','').replace(')','').lower().split(' ')\n",
      "        for txt in text\n",
      "        )\n",
      "    \n",
      "    return Counter((\n",
      "        word\n",
      "        for txt  in text_clean\n",
      "        for word in txt\n",
      "        if word != ''   # the split by spaces generates empty strings when consecutive spaces occur in the title; this discards them\n",
      "        ))"
     ],
     "language": "python",
     "metadata": {},
     "outputs": [],
     "prompt_number": 6
    },
    {
     "cell_type": "markdown",
     "metadata": {},
     "source": [
      "This function can accept a single string, but it can also calculate its frequencies over a sequence of strings (no need to concatenate them first)."
     ]
    },
    {
     "cell_type": "code",
     "collapsed": false,
     "input": [
      "word_freq( 'this and that and also something else' )"
     ],
     "language": "python",
     "metadata": {},
     "outputs": [
      {
       "metadata": {},
       "output_type": "pyout",
       "prompt_number": 7,
       "text": [
        "Counter({'and': 2, 'that': 1, 'this': 1, 'else': 1, 'also': 1, 'something': 1})"
       ]
      }
     ],
     "prompt_number": 7
    },
    {
     "cell_type": "code",
     "collapsed": false,
     "input": [
      "word_freq( ['here is a string', 'and here is another'] )"
     ],
     "language": "python",
     "metadata": {},
     "outputs": [
      {
       "metadata": {},
       "output_type": "pyout",
       "prompt_number": 8,
       "text": [
        "Counter({'is': 2, 'here': 2, 'a': 1, 'and': 1, 'string': 1, 'another': 1})"
       ]
      }
     ],
     "prompt_number": 8
    },
    {
     "cell_type": "markdown",
     "metadata": {},
     "source": [
      "We now apply it to two papers' title and abstract strings."
     ]
    },
    {
     "cell_type": "code",
     "collapsed": false,
     "input": [
      "[   ( Summaries[7466396].title, Abstracts[7466396] ),\n",
      "    ( Summaries[8316296].title, Abstracts[8316296] )\n",
      "    ]"
     ],
     "language": "python",
     "metadata": {},
     "outputs": [
      {
       "metadata": {},
       "output_type": "pyout",
       "prompt_number": 9,
       "text": [
        "[('The evolution of cooperation.',\n",
        "  \"Cooperation in organisms, whether bacteria or primates, has been a difficulty for evolutionary theory since Darwin. On the assumption that interactions between pairs of individuals occur on a probabilistic basis, a model is developed based on the concept of an evolutionarily stable strategy in the context of the Prisoner's Dilemma game. Deductions from the model, and the results of a computer tournament show how cooperation based on reciprocity can get started in an asocial world, can thrive while interacting with a wide range of other strategies, and can resist invasion once fully established. Potential applications include specific aspects of territoriality, mating, and disease.\"),\n",
        " (\"A strategy of win-stay, lose-shift that outperforms tit-for-tat in the Prisoner's Dilemma game.\",\n",
        "  \"The Prisoner's Dilemma is the leading metaphor for the evolution of cooperative behaviour in populations of selfish agents, especially since the well-known computer tournaments of Axelrod and their application to biological communities. In Axelrod's simulations, the simple strategy tit-for-tat did outstandingly well and subsequently became the major paradigm for reciprocal altruism. Here we present extended evolutionary simulations of heterogeneous ensembles of probabilistic strategies including mutation and selection, and report the unexpected success of another protagonist: Pavlov. This strategy is as simple as tit-for-tat and embodies the fundamental behavioural mechanism win-stay, lose-shift, which seems to be a widespread rule. Pavlov's success is based on two important advantages over tit-for-tat: it can correct occasional mistakes and exploit unconditional cooperators. This second feature prevents Pavlov populations from being undermined by unconditional cooperators, which in turn invite defectors. Pavlov seems to be more robust than tit-for-tat, suggesting that cooperative behaviour in natural situations may often be based on win-stay, lose-shift.\")]"
       ]
      }
     ],
     "prompt_number": 9
    },
    {
     "cell_type": "code",
     "collapsed": false,
     "input": [
      "p1 = word_freq( [Summaries[7466396].title, Abstracts[7466396]] )\n",
      "p1"
     ],
     "language": "python",
     "metadata": {},
     "outputs": [
      {
       "metadata": {},
       "output_type": "pyout",
       "prompt_number": 10,
       "text": [
        "Counter({'of': 7, 'the': 7, 'a': 5, 'on': 4, 'and': 3, 'in': 3, 'cooperation': 3, 'can': 3, 'an': 2, 'based': 2, 'model': 2, 'territoriality': 1, 'invasion': 1, 'evolutionary': 1, 'dilemma': 1, 'show': 1, 'developed': 1, 'is': 1, 'tournament': 1, 'interactions': 1, 'resist': 1, 'concept': 1, 'include': 1, 'strategy': 1, 'bacteria': 1, 'established': 1, 'mating': 1, 'reciprocity': 1, 'interacting': 1, 'for': 1, 'basis': 1, 'with': 1, 'since': 1, 'range': 1, 'been': 1, 'occur': 1, 'how': 1, 'assumption': 1, 'between': 1, 'get': 1, 'has': 1, \"prisoner's\": 1, 'potential': 1, 'thrive': 1, 'wide': 1, 'aspects': 1, 'theory': 1, 'that': 1, 'started': 1, 'stable': 1, 'pairs': 1, 'results': 1, 'difficulty': 1, 'game': 1, 'asocial': 1, 'from': 1, 'primates': 1, 'probabilistic': 1, 'evolution': 1, 'darwin': 1, 'evolutionarily': 1, 'organisms': 1, 'world': 1, 'applications': 1, 'whether': 1, 'deductions': 1, 'disease': 1, 'specific': 1, 'while': 1, 'individuals': 1, 'context': 1, 'fully': 1, 'strategies': 1, 'other': 1, 'computer': 1, 'or': 1, 'once': 1})"
       ]
      }
     ],
     "prompt_number": 10
    },
    {
     "cell_type": "code",
     "collapsed": false,
     "input": [
      "p2 = word_freq( Summaries[8316296].title + ' ' + Abstracts[8316296] )\n",
      "p2"
     ],
     "language": "python",
     "metadata": {},
     "outputs": [
      {
       "metadata": {},
       "output_type": "pyout",
       "prompt_number": 11,
       "text": [
        "Counter({'the': 9, 'of': 7, 'and': 6, 'in': 5, 'tit-for-tat': 4, 'to': 3, 'be': 3, 'lose-shift': 3, 'strategy': 3, 'pavlov': 3, 'is': 3, 'win-stay': 3, 'cooperative': 2, 'based': 2, 'seems': 2, 'success': 2, 'for': 2, 'behaviour': 2, 'on': 2, 'dilemma': 2, 'simple': 2, 'cooperators': 2, 'populations': 2, 'this': 2, 'unconditional': 2, 'as': 2, 'simulations': 2, 'that': 2, 'which': 2, \"prisoner's\": 2, 'a': 2, 'tit-for-tat:': 1, 'evolutionary': 1, 'being': 1, 'over': 1, 'communities': 1, 'selection': 1, 'including': 1, 'behavioural': 1, 'ensembles': 1, 'situations': 1, 'undermined': 1, 'game': 1, 'report': 1, 'evolution': 1, 'did': 1, 'mistakes': 1, 'biological': 1, 'unexpected': 1, 'often': 1, 'second': 1, 'computer': 1, 'since': 1, 'mutation': 1, 'embodies': 1, 'suggesting': 1, 'tournaments': 1, 'correct': 1, 'protagonist:': 1, 'we': 1, 'here': 1, 'advantages': 1, 'from': 1, 'by': 1, 'turn': 1, 'defectors': 1, 'became': 1, 'major': 1, 'well-known': 1, 'exploit': 1, 'agents': 1, 'another': 1, 'metaphor': 1, 'leading': 1, 'outstandingly': 1, 'two': 1, 'their': 1, \"axelrod's\": 1, 'more': 1, 'invite': 1, 'altruism': 1, 'than': 1, 'present': 1, 'reciprocal': 1, 'prevents': 1, 'can': 1, 'heterogeneous': 1, 'strategies': 1, 'it': 1, 'outperforms': 1, 'selfish': 1, 'feature': 1, 'mechanism': 1, 'occasional': 1, 'application': 1, 'widespread': 1, 'extended': 1, 'may': 1, 'important': 1, 'robust': 1, 'probabilistic': 1, 'subsequently': 1, 'natural': 1, 'especially': 1, 'well': 1, 'rule': 1, 'fundamental': 1, 'axelrod': 1, \"pavlov's\": 1, 'paradigm': 1})"
       ]
      }
     ],
     "prompt_number": 11
    },
    {
     "cell_type": "markdown",
     "metadata": {},
     "source": [
      "Now, we use set operations to intersect the sets of words occurring in each paper, and then sort the results by decreasing order of total usage."
     ]
    },
    {
     "cell_type": "code",
     "collapsed": false,
     "input": [
      "shared = sorted( set( p1.keys() ) & set( p2.keys() ), key=lambda i:p1[i]+p2[i], reverse=True )\n",
      "print shared"
     ],
     "language": "python",
     "metadata": {},
     "outputs": [
      {
       "output_type": "stream",
       "stream": "stdout",
       "text": [
        "['the', 'of', 'and', 'in', 'a', 'on', 'is', 'strategy', 'based', 'can', 'dilemma', 'for', \"prisoner's\", 'that', 'evolutionary', 'computer', 'from', 'since', 'game', 'probabilistic', 'evolution', 'strategies']\n"
       ]
      }
     ],
     "prompt_number": 12
    },
    {
     "cell_type": "markdown",
     "metadata": {},
     "source": [
      "We'll use these words to create our vectors summarizing each paper's contents."
     ]
    },
    {
     "cell_type": "code",
     "collapsed": false,
     "input": [
      "word_vects = [\n",
      "    [ freqs.get(word,0) for word in shared ]\n",
      "    for freqs in [p1,p2]\n",
      "    ]\n",
      "word_vects"
     ],
     "language": "python",
     "metadata": {},
     "outputs": [
      {
       "metadata": {},
       "output_type": "pyout",
       "prompt_number": 13,
       "text": [
        "[[7, 7, 3, 3, 5, 4, 1, 1, 2, 3, 1, 1, 1, 1, 1, 1, 1, 1, 1, 1, 1, 1],\n",
        " [9, 7, 6, 5, 2, 2, 3, 3, 2, 1, 2, 2, 2, 2, 1, 1, 1, 1, 1, 1, 1, 1]]"
       ]
      }
     ],
     "prompt_number": 13
    },
    {
     "cell_type": "markdown",
     "metadata": {},
     "source": [
      "In this representation, we know that the word 'and' (the third one in the `shared` list) occurs 3 times in the first document, and 6 in the second."
     ]
    },
    {
     "cell_type": "markdown",
     "metadata": {},
     "source": [
      "Using [Numpy](http://www.numpy.org/) ([introductory reference](http://docs.scipy.org/doc/numpy/user/basics.html), [tutorial](http://wiki.scipy.org/Tentative_NumPy_Tutorial)) you can convert this from a list of lists into a matrix form:"
     ]
    },
    {
     "cell_type": "code",
     "collapsed": false,
     "input": [
      "word_vects = np.array( word_vects )\n",
      "word_vects"
     ],
     "language": "python",
     "metadata": {},
     "outputs": [
      {
       "metadata": {},
       "output_type": "pyout",
       "prompt_number": 14,
       "text": [
        "array([[7, 7, 3, 3, 5, 4, 1, 1, 2, 3, 1, 1, 1, 1, 1, 1, 1, 1, 1, 1, 1, 1],\n",
        "       [9, 7, 6, 5, 2, 2, 3, 3, 2, 1, 2, 2, 2, 2, 1, 1, 1, 1, 1, 1, 1, 1]])"
       ]
      }
     ],
     "prompt_number": 14
    },
    {
     "cell_type": "markdown",
     "metadata": {},
     "source": [
      "Using Numpy will allow you to perform many operations over whole matrices/vectors, with a compact syntax and very high performance (Numpy relies on C libraries for many of its operations).\n",
      "\n",
      "Below we normalize each paper's vector:"
     ]
    },
    {
     "cell_type": "code",
     "collapsed": false,
     "input": [
      "rows_sum = word_vects.sum( axis=1 )\n",
      "rows_sum"
     ],
     "language": "python",
     "metadata": {},
     "outputs": [
      {
       "metadata": {},
       "output_type": "pyout",
       "prompt_number": 15,
       "text": [
        "array([48, 56])"
       ]
      }
     ],
     "prompt_number": 15
    },
    {
     "cell_type": "code",
     "collapsed": false,
     "input": [
      "rows_sum.reshape(-1,1).astype( np.float )"
     ],
     "language": "python",
     "metadata": {},
     "outputs": [
      {
       "metadata": {},
       "output_type": "pyout",
       "prompt_number": 16,
       "text": [
        "array([[ 48.],\n",
        "       [ 56.]])"
       ]
      }
     ],
     "prompt_number": 16
    },
    {
     "cell_type": "code",
     "collapsed": false,
     "input": [
      "n = word_vects / rows_sum.reshape(-1,1).astype( np.float )\n",
      "n"
     ],
     "language": "python",
     "metadata": {},
     "outputs": [
      {
       "metadata": {},
       "output_type": "pyout",
       "prompt_number": 17,
       "text": [
        "array([[ 0.14583333,  0.14583333,  0.0625    ,  0.0625    ,  0.10416667,\n",
        "         0.08333333,  0.02083333,  0.02083333,  0.04166667,  0.0625    ,\n",
        "         0.02083333,  0.02083333,  0.02083333,  0.02083333,  0.02083333,\n",
        "         0.02083333,  0.02083333,  0.02083333,  0.02083333,  0.02083333,\n",
        "         0.02083333,  0.02083333],\n",
        "       [ 0.16071429,  0.125     ,  0.10714286,  0.08928571,  0.03571429,\n",
        "         0.03571429,  0.05357143,  0.05357143,  0.03571429,  0.01785714,\n",
        "         0.03571429,  0.03571429,  0.03571429,  0.03571429,  0.01785714,\n",
        "         0.01785714,  0.01785714,  0.01785714,  0.01785714,  0.01785714,\n",
        "         0.01785714,  0.01785714]])"
       ]
      }
     ],
     "prompt_number": 17
    },
    {
     "cell_type": "markdown",
     "metadata": {},
     "source": [
      "We can obtain just one column as such:"
     ]
    },
    {
     "cell_type": "code",
     "collapsed": false,
     "input": [
      "n[ : , shared.index('strategy') ]"
     ],
     "language": "python",
     "metadata": {},
     "outputs": [
      {
       "metadata": {},
       "output_type": "pyout",
       "prompt_number": 18,
       "text": [
        "array([ 0.02083333,  0.05357143])"
       ]
      }
     ],
     "prompt_number": 18
    },
    {
     "cell_type": "heading",
     "level": 3,
     "metadata": {},
     "source": [
      "Simple word clouds"
     ]
    },
    {
     "cell_type": "markdown",
     "metadata": {},
     "source": [
      "In this section, we will be printing word clouds representing words' occurrence frequencies in a corpus of text. We will use IPython's Rich Display System ([examples here](http://nbviewer.ipython.org/url/github.com/ipython/ipython/raw/master/examples/notebooks/Part%205%20-%20Rich%20Display%20System.ipynb)) to have code cells producing HTML output. This section also provides a more elaborate example of how to use Numpy."
     ]
    },
    {
     "cell_type": "code",
     "collapsed": false,
     "input": [
      "from IPython.display import display, HTML\n",
      "\n",
      "def word_cloud( words, frequency ):\n",
      "    \"\"\"\n",
      "    Given a sequence of `words`, and a matching sequence of `frequency` values (scaled in [0,1]),\n",
      "    displays a word cloud with word sizes scaled proportionally to their frequencies.\n",
      "    \"\"\"\n",
      "    max_font_size = 40.\n",
      "    min_font_size = 8.\n",
      "\n",
      "    wc = HTML( ' '.join(\n",
      "        '<span style=\"font-size:%.1fpx;\">&nbsp;%s&nbsp;</span>' % ( min_font_size + f*(max_font_size-min_font_size), w )\n",
      "        for w,f in zip(words, frequency)\n",
      "        ) )\n",
      "    display(wc)"
     ],
     "language": "python",
     "metadata": {},
     "outputs": [],
     "prompt_number": 19
    },
    {
     "cell_type": "markdown",
     "metadata": {},
     "source": [
      "The corpus of text we will be using as an example is made up of the titles and abstracts of papers containing the word \"extinct\" in their abstracts (words such as \"extinction\", \"Extinction\", \"[pseudoextinction](https://en.wikipedia.org/wiki/Pseudoextinction)\" and \"[coextinction](https://en.wikipedia.org/wiki/Coextinction)\" will also be caught up in our net).\n",
      "\n",
      "Note how a generator expression is used to create an iterator over all strings matching our criterion (which is then sent as argument to `word_freq()`). This way, we never actually build in memory the whole list of strings in our corpus. Of course, this only works here because `word_freq()` was coded in such a way that it can accept iterators as arguments."
     ]
    },
    {
     "cell_type": "code",
     "collapsed": false,
     "input": [
      "extinction_corpus_freqs = word_freq(\n",
      "    element\n",
      "    for (id,abstr) in Abstracts.iteritems()\n",
      "    for element in (Summaries[id].title, abstr)\n",
      "    if 'extinct' in abstr or 'Extinct' in abstr\n",
      "    )"
     ],
     "language": "python",
     "metadata": {},
     "outputs": [],
     "prompt_number": 20
    },
    {
     "cell_type": "markdown",
     "metadata": {},
     "source": [
      "We now sort by decreasing order of word frequency, and show the 10 most frequently occurring words."
     ]
    },
    {
     "cell_type": "code",
     "collapsed": false,
     "input": [
      "extinction = sorted( extinction_corpus_freqs.items(), key=lambda i:i[1], reverse=True )\n",
      "extinction[:10]"
     ],
     "language": "python",
     "metadata": {},
     "outputs": [
      {
       "metadata": {},
       "output_type": "pyout",
       "prompt_number": 21,
       "text": [
        "[('the', 21287),\n",
        " ('of', 18452),\n",
        " ('and', 11717),\n",
        " ('in', 8995),\n",
        " ('to', 6873),\n",
        " ('a', 6428),\n",
        " ('that', 4219),\n",
        " ('is', 3404),\n",
        " ('for', 2834),\n",
        " ('evolution', 2645)]"
       ]
      }
     ],
     "prompt_number": 21
    },
    {
     "cell_type": "markdown",
     "metadata": {},
     "source": [
      "Using Python's [zip](http://docs.python.org/2/library/functions.html#zip) built-in function (with an [argument list unpacked](http://docs.python.org/2/tutorial/controlflow.html#unpacking-argument-lists) through `*`) we can easily decompose a list of tuples into multiple lists containing each just the elements at a certain position."
     ]
    },
    {
     "cell_type": "code",
     "collapsed": false,
     "input": [
      "extinction_w, extinction_freq = zip( *extinction )"
     ],
     "language": "python",
     "metadata": {},
     "outputs": [],
     "prompt_number": 22
    },
    {
     "cell_type": "markdown",
     "metadata": {},
     "source": [
      "Here are then the 20 most frequently occurring words, and their frequencies:"
     ]
    },
    {
     "cell_type": "code",
     "collapsed": false,
     "input": [
      "print extinction_w[:20]"
     ],
     "language": "python",
     "metadata": {},
     "outputs": [
      {
       "output_type": "stream",
       "stream": "stdout",
       "text": [
        "('the', 'of', 'and', 'in', 'to', 'a', 'that', 'is', 'for', 'evolution', 'with', 'are', 'we', 'from', 'by', 'as', 'on', 'species', 'this', 'extinction')\n"
       ]
      }
     ],
     "prompt_number": 23
    },
    {
     "cell_type": "code",
     "collapsed": false,
     "input": [
      "print extinction_freq[:20]"
     ],
     "language": "python",
     "metadata": {},
     "outputs": [
      {
       "output_type": "stream",
       "stream": "stdout",
       "text": [
        "(21287, 18452, 11717, 8995, 6873, 6428, 4219, 3404, 2834, 2645, 2487, 2319, 2175, 2117, 2089, 1942, 1892, 1867, 1791, 1494)\n"
       ]
      }
     ],
     "prompt_number": 24
    },
    {
     "cell_type": "markdown",
     "metadata": {},
     "source": [
      "We can now easily convert the list of word frequencies into a numpy array, for easier handling."
     ]
    },
    {
     "cell_type": "code",
     "collapsed": false,
     "input": [
      "extinction_freq = np.array( extinction_freq )\n",
      "\n",
      "print 'Array shape:', extinction_freq.shape\n",
      "print 'First 100 word frequencies:'\n",
      "extinction_freq[:100]"
     ],
     "language": "python",
     "metadata": {},
     "outputs": [
      {
       "output_type": "stream",
       "stream": "stdout",
       "text": [
        "Array shape: (24676,)\n",
        "First 100 word frequencies:\n"
       ]
      },
      {
       "metadata": {},
       "output_type": "pyout",
       "prompt_number": 25,
       "text": [
        "array([21287, 18452, 11717,  8995,  6873,  6428,  4219,  3404,  2834,\n",
        "        2645,  2487,  2319,  2175,  2117,  2089,  1942,  1892,  1867,\n",
        "        1791,  1494,  1454,  1433,  1412,  1226,  1083,  1072,  1026,\n",
        "         977,   949,   943,   866,   841,   828,   808,   803,   803,\n",
        "         795,   781,   767,   751,   750,   737,   734,   706,   659,\n",
        "         655,   603,   597,   583,   576,   571,   562,   550,   546,\n",
        "         512,   510,   509,   506,   494,   494,   492,   489,   488,\n",
        "         484,   480,   474,   472,   454,   451,   447,   447,   444,\n",
        "         440,   438,   437,   434,   432,   432,   429,   428,   426,\n",
        "         417,   413,   412,   411,   409,   407,   406,   404,   401,\n",
        "         393,   377,   374,   369,   363,   354,   352,   345,   343,   341])"
       ]
      }
     ],
     "prompt_number": 25
    },
    {
     "cell_type": "markdown",
     "metadata": {},
     "source": [
      "If we were to scale word sizes based on these frequencies, we'd see the first few words, and little else. Because the most frequently occurring words are used so much more often than the rest, we can't really scale based on them. We'll therefore impose a frequency cutoff: words with frequencies greater than the cutoff will be brought down to it. We will set here the cutoff to the 99.75th percentile of the data (with [numpy.percentile](http://docs.scipy.org/doc/numpy/reference/generated/numpy.percentile.html))."
     ]
    },
    {
     "cell_type": "code",
     "collapsed": false,
     "input": [
      "freq_cutoff = np.percentile( extinction_freq, 99.75 )\n",
      "freq_cutoff"
     ],
     "language": "python",
     "metadata": {},
     "outputs": [
      {
       "metadata": {},
       "output_type": "pyout",
       "prompt_number": 26,
       "text": [
        "488.3125"
       ]
      }
     ],
     "prompt_number": 26
    },
    {
     "cell_type": "code",
     "collapsed": false,
     "input": [
      "extinction_freq = np.clip( extinction_freq, a_min=0, a_max=freq_cutoff )\n",
      "extinction_freq[:100]"
     ],
     "language": "python",
     "metadata": {},
     "outputs": [
      {
       "metadata": {},
       "output_type": "pyout",
       "prompt_number": 27,
       "text": [
        "array([ 488.3125,  488.3125,  488.3125,  488.3125,  488.3125,  488.3125,\n",
        "        488.3125,  488.3125,  488.3125,  488.3125,  488.3125,  488.3125,\n",
        "        488.3125,  488.3125,  488.3125,  488.3125,  488.3125,  488.3125,\n",
        "        488.3125,  488.3125,  488.3125,  488.3125,  488.3125,  488.3125,\n",
        "        488.3125,  488.3125,  488.3125,  488.3125,  488.3125,  488.3125,\n",
        "        488.3125,  488.3125,  488.3125,  488.3125,  488.3125,  488.3125,\n",
        "        488.3125,  488.3125,  488.3125,  488.3125,  488.3125,  488.3125,\n",
        "        488.3125,  488.3125,  488.3125,  488.3125,  488.3125,  488.3125,\n",
        "        488.3125,  488.3125,  488.3125,  488.3125,  488.3125,  488.3125,\n",
        "        488.3125,  488.3125,  488.3125,  488.3125,  488.3125,  488.3125,\n",
        "        488.3125,  488.3125,  488.    ,  484.    ,  480.    ,  474.    ,\n",
        "        472.    ,  454.    ,  451.    ,  447.    ,  447.    ,  444.    ,\n",
        "        440.    ,  438.    ,  437.    ,  434.    ,  432.    ,  432.    ,\n",
        "        429.    ,  428.    ,  426.    ,  417.    ,  413.    ,  412.    ,\n",
        "        411.    ,  409.    ,  407.    ,  406.    ,  404.    ,  401.    ,\n",
        "        393.    ,  377.    ,  374.    ,  369.    ,  363.    ,  354.    ,\n",
        "        352.    ,  345.    ,  343.    ,  341.    ])"
       ]
      }
     ],
     "prompt_number": 27
    },
    {
     "cell_type": "markdown",
     "metadata": {},
     "source": [
      "We don't want to print out over 20 thousand words. So, we'll impose a maximum number of printed words, and proceed with scaling each word's frequency in [0,1] according to the range of values observed in the set of words we'll be printing."
     ]
    },
    {
     "cell_type": "code",
     "collapsed": false,
     "input": [
      "max_words = 250"
     ],
     "language": "python",
     "metadata": {},
     "outputs": [],
     "prompt_number": 28
    },
    {
     "cell_type": "code",
     "collapsed": false,
     "input": [
      "extinction_selection = extinction_freq[:max_words]"
     ],
     "language": "python",
     "metadata": {},
     "outputs": [],
     "prompt_number": 29
    },
    {
     "cell_type": "code",
     "collapsed": false,
     "input": [
      "m, M = extinction_selection.min(), extinction_selection.max()\n",
      "\n",
      "extinction_selection = ( extinction_selection - m ) / (M - m)\n",
      "extinction_selection[:100]"
     ],
     "language": "python",
     "metadata": {},
     "outputs": [
      {
       "metadata": {},
       "output_type": "pyout",
       "prompt_number": 30,
       "text": [
        "array([ 1.        ,  1.        ,  1.        ,  1.        ,  1.        ,\n",
        "        1.        ,  1.        ,  1.        ,  1.        ,  1.        ,\n",
        "        1.        ,  1.        ,  1.        ,  1.        ,  1.        ,\n",
        "        1.        ,  1.        ,  1.        ,  1.        ,  1.        ,\n",
        "        1.        ,  1.        ,  1.        ,  1.        ,  1.        ,\n",
        "        1.        ,  1.        ,  1.        ,  1.        ,  1.        ,\n",
        "        1.        ,  1.        ,  1.        ,  1.        ,  1.        ,\n",
        "        1.        ,  1.        ,  1.        ,  1.        ,  1.        ,\n",
        "        1.        ,  1.        ,  1.        ,  1.        ,  1.        ,\n",
        "        1.        ,  1.        ,  1.        ,  1.        ,  1.        ,\n",
        "        1.        ,  1.        ,  1.        ,  1.        ,  1.        ,\n",
        "        1.        ,  1.        ,  1.        ,  1.        ,  1.        ,\n",
        "        1.        ,  1.        ,  0.99904525,  0.98682452,  0.97460378,\n",
        "        0.95627268,  0.95016231,  0.89516899,  0.88600344,  0.8737827 ,\n",
        "        0.8737827 ,  0.86461715,  0.85239641,  0.84628604,  0.84323086,\n",
        "        0.8340653 ,  0.82795494,  0.82795494,  0.81878938,  0.8157342 ,\n",
        "        0.80962383,  0.78212717,  0.76990643,  0.76685125,  0.76379607,\n",
        "        0.7576857 ,  0.75157533,  0.74852015,  0.74240978,  0.73324422,\n",
        "        0.70880275,  0.6599198 ,  0.65075425,  0.63547833,  0.61714722,\n",
        "        0.58965056,  0.58354019,  0.5621539 ,  0.55604354,  0.54993317])"
       ]
      }
     ],
     "prompt_number": 30
    },
    {
     "cell_type": "markdown",
     "metadata": {},
     "source": [
      "And, having concluded all the required intermediate steps, we can finally print our word cloud:"
     ]
    },
    {
     "cell_type": "code",
     "collapsed": false,
     "input": [
      "word_cloud( extinction_w[:max_words], extinction_selection )"
     ],
     "language": "python",
     "metadata": {},
     "outputs": [
      {
       "html": [
        "<span style=\"font-size:40.0px;\">&nbsp;the&nbsp;</span> <span style=\"font-size:40.0px;\">&nbsp;of&nbsp;</span> <span style=\"font-size:40.0px;\">&nbsp;and&nbsp;</span> <span style=\"font-size:40.0px;\">&nbsp;in&nbsp;</span> <span style=\"font-size:40.0px;\">&nbsp;to&nbsp;</span> <span style=\"font-size:40.0px;\">&nbsp;a&nbsp;</span> <span style=\"font-size:40.0px;\">&nbsp;that&nbsp;</span> <span style=\"font-size:40.0px;\">&nbsp;is&nbsp;</span> <span style=\"font-size:40.0px;\">&nbsp;for&nbsp;</span> <span style=\"font-size:40.0px;\">&nbsp;evolution&nbsp;</span> <span style=\"font-size:40.0px;\">&nbsp;with&nbsp;</span> <span style=\"font-size:40.0px;\">&nbsp;are&nbsp;</span> <span style=\"font-size:40.0px;\">&nbsp;we&nbsp;</span> <span style=\"font-size:40.0px;\">&nbsp;from&nbsp;</span> <span style=\"font-size:40.0px;\">&nbsp;by&nbsp;</span> <span style=\"font-size:40.0px;\">&nbsp;as&nbsp;</span> <span style=\"font-size:40.0px;\">&nbsp;on&nbsp;</span> <span style=\"font-size:40.0px;\">&nbsp;species&nbsp;</span> <span style=\"font-size:40.0px;\">&nbsp;this&nbsp;</span> <span style=\"font-size:40.0px;\">&nbsp;extinction&nbsp;</span> <span style=\"font-size:40.0px;\">&nbsp;an&nbsp;</span> <span style=\"font-size:40.0px;\">&nbsp;have&nbsp;</span> <span style=\"font-size:40.0px;\">&nbsp;be&nbsp;</span> <span style=\"font-size:40.0px;\">&nbsp;or&nbsp;</span> <span style=\"font-size:40.0px;\">&nbsp;these&nbsp;</span> <span style=\"font-size:40.0px;\">&nbsp;which&nbsp;</span> <span style=\"font-size:40.0px;\">&nbsp;evolutionary&nbsp;</span> <span style=\"font-size:40.0px;\">&nbsp;at&nbsp;</span> <span style=\"font-size:40.0px;\">&nbsp;between&nbsp;</span> <span style=\"font-size:40.0px;\">&nbsp;population&nbsp;</span> <span style=\"font-size:40.0px;\">&nbsp;can&nbsp;</span> <span style=\"font-size:40.0px;\">&nbsp;has&nbsp;</span> <span style=\"font-size:40.0px;\">&nbsp;not&nbsp;</span> <span style=\"font-size:40.0px;\">&nbsp;their&nbsp;</span> <span style=\"font-size:40.0px;\">&nbsp;was&nbsp;</span> <span style=\"font-size:40.0px;\">&nbsp;may&nbsp;</span> <span style=\"font-size:40.0px;\">&nbsp;more&nbsp;</span> <span style=\"font-size:40.0px;\">&nbsp;been&nbsp;</span> <span style=\"font-size:40.0px;\">&nbsp;were&nbsp;</span> <span style=\"font-size:40.0px;\">&nbsp;model&nbsp;</span> <span style=\"font-size:40.0px;\">&nbsp;extinct&nbsp;</span> <span style=\"font-size:40.0px;\">&nbsp;but&nbsp;</span> <span style=\"font-size:40.0px;\">&nbsp;it&nbsp;</span> <span style=\"font-size:40.0px;\">&nbsp;populations&nbsp;</span> <span style=\"font-size:40.0px;\">&nbsp;two&nbsp;</span> <span style=\"font-size:40.0px;\">&nbsp;than&nbsp;</span> <span style=\"font-size:40.0px;\">&nbsp;new&nbsp;</span> <span style=\"font-size:40.0px;\">&nbsp;also&nbsp;</span> <span style=\"font-size:40.0px;\">&nbsp;genetic&nbsp;</span> <span style=\"font-size:40.0px;\">&nbsp;data&nbsp;</span> <span style=\"font-size:40.0px;\">&nbsp;our&nbsp;</span> <span style=\"font-size:40.0px;\">&nbsp;size&nbsp;</span> <span style=\"font-size:40.0px;\">&nbsp;such&nbsp;</span> <span style=\"font-size:40.0px;\">&nbsp;other&nbsp;</span> <span style=\"font-size:40.0px;\">&nbsp;selection&nbsp;</span> <span style=\"font-size:40.0px;\">&nbsp;most&nbsp;</span> <span style=\"font-size:40.0px;\">&nbsp;fossil&nbsp;</span> <span style=\"font-size:40.0px;\">&nbsp;rates&nbsp;</span> <span style=\"font-size:40.0px;\">&nbsp;results&nbsp;</span> <span style=\"font-size:40.0px;\">&nbsp;both&nbsp;</span> <span style=\"font-size:40.0px;\">&nbsp;time&nbsp;</span> <span style=\"font-size:40.0px;\">&nbsp;within&nbsp;</span> <span style=\"font-size:40.0px;\">&nbsp;during&nbsp;</span> <span style=\"font-size:39.6px;\">&nbsp;one&nbsp;</span> <span style=\"font-size:39.2px;\">&nbsp;diversity&nbsp;</span> <span style=\"font-size:38.6px;\">&nbsp;its&nbsp;</span> <span style=\"font-size:38.4px;\">&nbsp;rate&nbsp;</span> <span style=\"font-size:36.6px;\">&nbsp;phylogenetic&nbsp;</span> <span style=\"font-size:36.4px;\">&nbsp;different&nbsp;</span> <span style=\"font-size:36.0px;\">&nbsp;into&nbsp;</span> <span style=\"font-size:36.0px;\">&nbsp;early&nbsp;</span> <span style=\"font-size:35.7px;\">&nbsp;here&nbsp;</span> <span style=\"font-size:35.3px;\">&nbsp;among&nbsp;</span> <span style=\"font-size:35.1px;\">&nbsp;all&nbsp;</span> <span style=\"font-size:35.0px;\">&nbsp;however&nbsp;</span> <span style=\"font-size:34.7px;\">&nbsp;gene&nbsp;</span> <span style=\"font-size:34.5px;\">&nbsp;evidence&nbsp;</span> <span style=\"font-size:34.5px;\">&nbsp;molecular&nbsp;</span> <span style=\"font-size:34.2px;\">&nbsp;using&nbsp;</span> <span style=\"font-size:34.1px;\">&nbsp;lineages&nbsp;</span> <span style=\"font-size:33.9px;\">&nbsp;taxa&nbsp;</span> <span style=\"font-size:33.0px;\">&nbsp;human&nbsp;</span> <span style=\"font-size:32.6px;\">&nbsp;show&nbsp;</span> <span style=\"font-size:32.5px;\">&nbsp;dynamics&nbsp;</span> <span style=\"font-size:32.4px;\">&nbsp;study&nbsp;</span> <span style=\"font-size:32.2px;\">&nbsp;some&nbsp;</span> <span style=\"font-size:32.1px;\">&nbsp;extant&nbsp;</span> <span style=\"font-size:32.0px;\">&nbsp;when&nbsp;</span> <span style=\"font-size:31.8px;\">&nbsp;only&nbsp;</span> <span style=\"font-size:31.5px;\">&nbsp;analysis&nbsp;</span> <span style=\"font-size:30.7px;\">&nbsp;changes&nbsp;</span> <span style=\"font-size:29.1px;\">&nbsp;large&nbsp;</span> <span style=\"font-size:28.8px;\">&nbsp;studies&nbsp;</span> <span style=\"font-size:28.3px;\">&nbsp;through&nbsp;</span> <span style=\"font-size:27.7px;\">&nbsp;years&nbsp;</span> <span style=\"font-size:26.9px;\">&nbsp;change&nbsp;</span> <span style=\"font-size:26.7px;\">&nbsp;patterns&nbsp;</span> <span style=\"font-size:26.0px;\">&nbsp;dna&nbsp;</span> <span style=\"font-size:25.8px;\">&nbsp;history&nbsp;</span> <span style=\"font-size:25.6px;\">&nbsp;first&nbsp;</span> <span style=\"font-size:25.6px;\">&nbsp;recent&nbsp;</span> <span style=\"font-size:24.5px;\">&nbsp;they&nbsp;</span> <span style=\"font-size:24.3px;\">&nbsp;many&nbsp;</span> <span style=\"font-size:23.9px;\">&nbsp;host&nbsp;</span> <span style=\"font-size:23.7px;\">&nbsp;genome&nbsp;</span> <span style=\"font-size:23.6px;\">&nbsp;models&nbsp;</span> <span style=\"font-size:23.4px;\">&nbsp;high&nbsp;</span> <span style=\"font-size:23.3px;\">&nbsp;ecological&nbsp;</span> <span style=\"font-size:22.6px;\">&nbsp;suggest&nbsp;</span> <span style=\"font-size:22.0px;\">&nbsp;speciation&nbsp;</span> <span style=\"font-size:21.9px;\">&nbsp;body&nbsp;</span> <span style=\"font-size:21.8px;\">&nbsp;morphological&nbsp;</span> <span style=\"font-size:21.8px;\">&nbsp;important&nbsp;</span> <span style=\"font-size:21.8px;\">&nbsp;major&nbsp;</span> <span style=\"font-size:21.6px;\">&nbsp;over&nbsp;</span> <span style=\"font-size:21.4px;\">&nbsp;diversification&nbsp;</span> <span style=\"font-size:21.3px;\">&nbsp;because&nbsp;</span> <span style=\"font-size:21.2px;\">&nbsp;present&nbsp;</span> <span style=\"font-size:21.0px;\">&nbsp;group&nbsp;</span> <span style=\"font-size:21.0px;\">&nbsp;there&nbsp;</span> <span style=\"font-size:21.0px;\">&nbsp;found&nbsp;</span> <span style=\"font-size:20.8px;\">&nbsp;genes&nbsp;</span> <span style=\"font-size:20.7px;\">&nbsp;i&nbsp;</span> <span style=\"font-size:20.6px;\">&nbsp;dispersal&nbsp;</span> <span style=\"font-size:20.5px;\">&nbsp;based&nbsp;</span> <span style=\"font-size:20.4px;\">&nbsp;range&nbsp;</span> <span style=\"font-size:20.2px;\">&nbsp;about&nbsp;</span> <span style=\"font-size:20.1px;\">&nbsp;origin&nbsp;</span> <span style=\"font-size:19.8px;\">&nbsp;how&nbsp;</span> <span style=\"font-size:19.7px;\">&nbsp;variation&nbsp;</span> <span style=\"font-size:19.7px;\">&nbsp;system&nbsp;</span> <span style=\"font-size:19.6px;\">&nbsp;effects&nbsp;</span> <span style=\"font-size:19.4px;\">&nbsp;well&nbsp;</span> <span style=\"font-size:18.9px;\">&nbsp;modern&nbsp;</span> <span style=\"font-size:18.9px;\">&nbsp;number&nbsp;</span> <span style=\"font-size:18.8px;\">&nbsp;life&nbsp;</span> <span style=\"font-size:18.8px;\">&nbsp;used&nbsp;</span> <span style=\"font-size:18.7px;\">&nbsp;mammals&nbsp;</span> <span style=\"font-size:18.6px;\">&nbsp;small&nbsp;</span> <span style=\"font-size:18.4px;\">&nbsp;environmental&nbsp;</span> <span style=\"font-size:18.4px;\">&nbsp;record&nbsp;</span> <span style=\"font-size:17.6px;\">&nbsp;local&nbsp;</span> <span style=\"font-size:17.2px;\">&nbsp;growth&nbsp;</span> <span style=\"font-size:16.9px;\">&nbsp;groups&nbsp;</span> <span style=\"font-size:16.8px;\">&nbsp;understanding&nbsp;</span> <span style=\"font-size:16.7px;\">&nbsp;three&nbsp;</span> <span style=\"font-size:16.4px;\">&nbsp;birds&nbsp;</span> <span style=\"font-size:16.3px;\">&nbsp;several&nbsp;</span> <span style=\"font-size:16.2px;\">&nbsp;including&nbsp;</span> <span style=\"font-size:16.0px;\">&nbsp;thus&nbsp;</span> <span style=\"font-size:15.9px;\">&nbsp;fitness&nbsp;</span> <span style=\"font-size:15.9px;\">&nbsp;analyses&nbsp;</span> <span style=\"font-size:15.8px;\">&nbsp;processes&nbsp;</span> <span style=\"font-size:15.7px;\">&nbsp;events&nbsp;</span> <span style=\"font-size:15.7px;\">&nbsp;1&nbsp;</span> <span style=\"font-size:15.4px;\">&nbsp;structure&nbsp;</span> <span style=\"font-size:15.4px;\">&nbsp;will&nbsp;</span> <span style=\"font-size:15.3px;\">&nbsp;role&nbsp;</span> <span style=\"font-size:15.3px;\">&nbsp;lineage&nbsp;</span> <span style=\"font-size:15.2px;\">&nbsp;process&nbsp;</span> <span style=\"font-size:15.2px;\">&nbsp;if&nbsp;</span> <span style=\"font-size:15.2px;\">&nbsp;those&nbsp;</span> <span style=\"font-size:15.1px;\">&nbsp;development&nbsp;</span> <span style=\"font-size:15.1px;\">&nbsp;complex&nbsp;</span> <span style=\"font-size:15.0px;\">&nbsp;evolved&nbsp;</span> <span style=\"font-size:14.8px;\">&nbsp;although&nbsp;</span> <span style=\"font-size:14.7px;\">&nbsp;phylogeny&nbsp;</span> <span style=\"font-size:14.6px;\">&nbsp;related&nbsp;</span> <span style=\"font-size:14.6px;\">&nbsp;each&nbsp;</span> <span style=\"font-size:14.5px;\">&nbsp;mutations&nbsp;</span> <span style=\"font-size:14.4px;\">&nbsp;sequences&nbsp;</span> <span style=\"font-size:14.3px;\">&nbsp;mass&nbsp;</span> <span style=\"font-size:14.1px;\">&nbsp;2&nbsp;</span> <span style=\"font-size:14.0px;\">&nbsp;ancestral&nbsp;</span> <span style=\"font-size:14.0px;\">&nbsp;known&nbsp;</span> <span style=\"font-size:14.0px;\">&nbsp;use&nbsp;</span> <span style=\"font-size:14.0px;\">&nbsp;traits&nbsp;</span> <span style=\"font-size:13.8px;\">&nbsp;could&nbsp;</span> <span style=\"font-size:13.5px;\">&nbsp;provide&nbsp;</span> <span style=\"font-size:13.5px;\">&nbsp;increased&nbsp;</span> <span style=\"font-size:13.5px;\">&nbsp;living&nbsp;</span> <span style=\"font-size:13.4px;\">&nbsp;sequence&nbsp;</span> <span style=\"font-size:13.3px;\">&nbsp;increase&nbsp;</span> <span style=\"font-size:13.1px;\">&nbsp;under&nbsp;</span> <span style=\"font-size:13.1px;\">&nbsp;no&nbsp;</span> <span style=\"font-size:13.0px;\">&nbsp;common&nbsp;</span> <span style=\"font-size:12.9px;\">&nbsp;individuals&nbsp;</span> <span style=\"font-size:12.9px;\">&nbsp;e&nbsp;</span> <span style=\"font-size:12.8px;\">&nbsp;late&nbsp;</span> <span style=\"font-size:12.8px;\">&nbsp;observed&nbsp;</span> <span style=\"font-size:12.7px;\">&nbsp;conditions&nbsp;</span> <span style=\"font-size:12.6px;\">&nbsp;hypothesis&nbsp;</span> <span style=\"font-size:12.5px;\">&nbsp;low&nbsp;</span> <span style=\"font-size:12.4px;\">&nbsp;higher&nbsp;</span> <span style=\"font-size:12.3px;\">&nbsp;likely&nbsp;</span> <span style=\"font-size:12.3px;\">&nbsp;distribution&nbsp;</span> <span style=\"font-size:12.2px;\">&nbsp;systems&nbsp;</span> <span style=\"font-size:12.2px;\">&nbsp;similar&nbsp;</span> <span style=\"font-size:11.8px;\">&nbsp;associated&nbsp;</span> <span style=\"font-size:11.8px;\">&nbsp;differences&nbsp;</span> <span style=\"font-size:11.7px;\">&nbsp;mutation&nbsp;</span> <span style=\"font-size:11.7px;\">&nbsp;result&nbsp;</span> <span style=\"font-size:11.6px;\">&nbsp;after&nbsp;</span> <span style=\"font-size:11.4px;\">&nbsp;organisms&nbsp;</span> <span style=\"font-size:11.4px;\">&nbsp;even&nbsp;</span> <span style=\"font-size:11.3px;\">&nbsp;adaptive&nbsp;</span> <span style=\"font-size:11.3px;\">&nbsp;pattern&nbsp;</span> <span style=\"font-size:11.2px;\">&nbsp;natural&nbsp;</span> <span style=\"font-size:11.2px;\">&nbsp;information&nbsp;</span> <span style=\"font-size:11.0px;\">&nbsp;where&nbsp;</span> <span style=\"font-size:10.8px;\">&nbsp;plants&nbsp;</span> <span style=\"font-size:10.7px;\">&nbsp;clades&nbsp;</span> <span style=\"font-size:10.6px;\">&nbsp;million&nbsp;</span> <span style=\"font-size:10.5px;\">&nbsp;relative&nbsp;</span> <span style=\"font-size:10.4px;\">&nbsp;suggests&nbsp;</span> <span style=\"font-size:10.4px;\">&nbsp;due&nbsp;</span> <span style=\"font-size:10.3px;\">&nbsp;adaptation&nbsp;</span> <span style=\"font-size:10.3px;\">&nbsp;divergence&nbsp;</span> <span style=\"font-size:10.3px;\">&nbsp;functional&nbsp;</span> <span style=\"font-size:10.1px;\">&nbsp;should&nbsp;</span> <span style=\"font-size:10.1px;\">&nbsp;potential&nbsp;</span> <span style=\"font-size:10.1px;\">&nbsp;levels&nbsp;</span> <span style=\"font-size:10.1px;\">&nbsp;while&nbsp;</span> <span style=\"font-size:10.1px;\">&nbsp;biological&nbsp;</span> <span style=\"font-size:9.9px;\">&nbsp;cells&nbsp;</span> <span style=\"font-size:9.7px;\">&nbsp;relationships&nbsp;</span> <span style=\"font-size:9.7px;\">&nbsp;across&nbsp;</span> <span style=\"font-size:9.6px;\">&nbsp;significant&nbsp;</span> <span style=\"font-size:9.5px;\">&nbsp;possible&nbsp;</span> <span style=\"font-size:9.5px;\">&nbsp;clade&nbsp;</span> <span style=\"font-size:9.4px;\">&nbsp;virus&nbsp;</span> <span style=\"font-size:9.4px;\">&nbsp;extinctions&nbsp;</span> <span style=\"font-size:9.3px;\">&nbsp;theory&nbsp;</span> <span style=\"font-size:9.3px;\">&nbsp;single&nbsp;</span> <span style=\"font-size:9.2px;\">&nbsp;cretaceous&nbsp;</span> <span style=\"font-size:9.1px;\">&nbsp;interactions&nbsp;</span> <span style=\"font-size:9.0px;\">&nbsp;climate&nbsp;</span> <span style=\"font-size:8.6px;\">&nbsp;highly&nbsp;</span> <span style=\"font-size:8.6px;\">&nbsp;environment&nbsp;</span> <span style=\"font-size:8.6px;\">&nbsp;whether&nbsp;</span> <span style=\"font-size:8.5px;\">&nbsp;level&nbsp;</span> <span style=\"font-size:8.5px;\">&nbsp;humans&nbsp;</span> <span style=\"font-size:8.4px;\">&nbsp;very&nbsp;</span> <span style=\"font-size:8.4px;\">&nbsp;approach&nbsp;</span> <span style=\"font-size:8.3px;\">&nbsp;function&nbsp;</span> <span style=\"font-size:8.3px;\">&nbsp;features&nbsp;</span> <span style=\"font-size:8.0px;\">&nbsp;global&nbsp;</span> <span style=\"font-size:8.0px;\">&nbsp;individual&nbsp;</span> <span style=\"font-size:8.0px;\">&nbsp;rapid&nbsp;</span> <span style=\"font-size:8.0px;\">&nbsp;plant&nbsp;</span>"
       ],
       "metadata": {},
       "output_type": "display_data",
       "text": [
        "<IPython.core.display.HTML at 0x1b7bef10>"
       ]
      }
     ],
     "prompt_number": 31
    },
    {
     "cell_type": "markdown",
     "metadata": {},
     "source": [
      "And there you have it. The collective intelligence of papers about extinction, tells us that:\n",
      "\n",
      "> The of and in to a that is for evolution with are we from by as on species this extinction an have be or these which evolutionary at between population can has not their was may more been were model extinct but it populations."
     ]
    },
    {
     "cell_type": "markdown",
     "metadata": {},
     "source": [
      "Now that you understand all the calculations we perform with words' frequencies, we can condense `word_cloud()` so it will carry out all these operations, and enable it to take as input a Counter object returned from a call to `word_freq()`."
     ]
    },
    {
     "cell_type": "code",
     "collapsed": false,
     "input": [
      "from IPython.display import display, HTML\n",
      "\n",
      "def word_cloud( word_frequencies, max_words=250, cutoff_percentile=90, font_size_range=(8,40) ):\n",
      "    \"\"\"\n",
      "    Given a Counter object (such as the one returned by `word_freq()`), display a word cloud\n",
      "    with the `max_words` most frequently occurring words.\n",
      "    \"\"\"\n",
      "    words, freq = zip( *sorted( word_frequencies.items(), key=lambda i:i[1], reverse=True ) )\n",
      "    \n",
      "    freq = np.array( freq[:max_words] )\n",
      "    freq = np.clip( freq, a_min=0, a_max=np.percentile(freq, cutoff_percentile) )\n",
      "    \n",
      "    # because freq was sorted by descending order of word frequencies, we can obtain its range of values at the extremes\n",
      "    m = freq[-1]\n",
      "    M = freq[0]\n",
      "    freq = ( freq - m ) / (M - m)\n",
      "    \n",
      "    min_fs, max_fs = font_size_range\n",
      "    \n",
      "    wc = HTML( ' '.join(\n",
      "        '<span style=\"font-size:%.1fpx;\">&nbsp;%s&nbsp;</span>' % ( min_fs + f*(max_fs - min_fs), w )\n",
      "        for w,f in zip(words[:max_words], freq)\n",
      "        ) )\n",
      "    display(wc)"
     ],
     "language": "python",
     "metadata": {},
     "outputs": [],
     "prompt_number": 32
    },
    {
     "cell_type": "markdown",
     "metadata": {},
     "source": [
      "And as an example, here is the word cloud generated from all abstracts having the word \"simulat\" (simulate, simulation, ...) in them."
     ]
    },
    {
     "cell_type": "code",
     "collapsed": false,
     "input": [
      "word_cloud( word_freq( a for a in Abstracts.itervalues() if 'simulat' in a ) )"
     ],
     "language": "python",
     "metadata": {},
     "outputs": [
      {
       "html": [
        "<span style=\"font-size:40.0px;\">&nbsp;the&nbsp;</span> <span style=\"font-size:40.0px;\">&nbsp;of&nbsp;</span> <span style=\"font-size:40.0px;\">&nbsp;and&nbsp;</span> <span style=\"font-size:40.0px;\">&nbsp;in&nbsp;</span> <span style=\"font-size:40.0px;\">&nbsp;a&nbsp;</span> <span style=\"font-size:40.0px;\">&nbsp;to&nbsp;</span> <span style=\"font-size:40.0px;\">&nbsp;is&nbsp;</span> <span style=\"font-size:40.0px;\">&nbsp;that&nbsp;</span> <span style=\"font-size:40.0px;\">&nbsp;for&nbsp;</span> <span style=\"font-size:40.0px;\">&nbsp;with&nbsp;</span> <span style=\"font-size:40.0px;\">&nbsp;we&nbsp;</span> <span style=\"font-size:40.0px;\">&nbsp;by&nbsp;</span> <span style=\"font-size:40.0px;\">&nbsp;are&nbsp;</span> <span style=\"font-size:40.0px;\">&nbsp;evolution&nbsp;</span> <span style=\"font-size:40.0px;\">&nbsp;on&nbsp;</span> <span style=\"font-size:40.0px;\">&nbsp;this&nbsp;</span> <span style=\"font-size:40.0px;\">&nbsp;as&nbsp;</span> <span style=\"font-size:40.0px;\">&nbsp;model&nbsp;</span> <span style=\"font-size:40.0px;\">&nbsp;an&nbsp;</span> <span style=\"font-size:40.0px;\">&nbsp;from&nbsp;</span> <span style=\"font-size:40.0px;\">&nbsp;be&nbsp;</span> <span style=\"font-size:40.0px;\">&nbsp;which&nbsp;</span> <span style=\"font-size:40.0px;\">&nbsp;at&nbsp;</span> <span style=\"font-size:40.0px;\">&nbsp;simulations&nbsp;</span> <span style=\"font-size:40.0px;\">&nbsp;can&nbsp;</span> <span style=\"font-size:39.7px;\">&nbsp;was&nbsp;</span> <span style=\"font-size:39.3px;\">&nbsp;these&nbsp;</span> <span style=\"font-size:37.2px;\">&nbsp;or&nbsp;</span> <span style=\"font-size:36.7px;\">&nbsp;results&nbsp;</span> <span style=\"font-size:36.1px;\">&nbsp;have&nbsp;</span> <span style=\"font-size:34.6px;\">&nbsp;between&nbsp;</span> <span style=\"font-size:33.0px;\">&nbsp;it&nbsp;</span> <span style=\"font-size:32.1px;\">&nbsp;time&nbsp;</span> <span style=\"font-size:32.0px;\">&nbsp;using&nbsp;</span> <span style=\"font-size:31.9px;\">&nbsp;were&nbsp;</span> <span style=\"font-size:31.5px;\">&nbsp;simulation&nbsp;</span> <span style=\"font-size:27.7px;\">&nbsp;data&nbsp;</span> <span style=\"font-size:27.6px;\">&nbsp;dynamics&nbsp;</span> <span style=\"font-size:27.6px;\">&nbsp;has&nbsp;</span> <span style=\"font-size:27.4px;\">&nbsp;been&nbsp;</span> <span style=\"font-size:27.4px;\">&nbsp;two&nbsp;</span> <span style=\"font-size:26.5px;\">&nbsp;different&nbsp;</span> <span style=\"font-size:26.2px;\">&nbsp;not&nbsp;</span> <span style=\"font-size:25.8px;\">&nbsp;our&nbsp;</span> <span style=\"font-size:25.6px;\">&nbsp;also&nbsp;</span> <span style=\"font-size:25.0px;\">&nbsp;used&nbsp;</span> <span style=\"font-size:24.4px;\">&nbsp;models&nbsp;</span> <span style=\"font-size:23.7px;\">&nbsp;study&nbsp;</span> <span style=\"font-size:23.5px;\">&nbsp;such&nbsp;</span> <span style=\"font-size:23.3px;\">&nbsp;system&nbsp;</span> <span style=\"font-size:23.0px;\">&nbsp;show&nbsp;</span> <span style=\"font-size:22.8px;\">&nbsp;selection&nbsp;</span> <span style=\"font-size:22.5px;\">&nbsp;method&nbsp;</span> <span style=\"font-size:22.4px;\">&nbsp;their&nbsp;</span> <span style=\"font-size:22.1px;\">&nbsp;both&nbsp;</span> <span style=\"font-size:21.9px;\">&nbsp;when&nbsp;</span> <span style=\"font-size:21.8px;\">&nbsp;population&nbsp;</span> <span style=\"font-size:21.5px;\">&nbsp;than&nbsp;</span> <span style=\"font-size:21.4px;\">&nbsp;more&nbsp;</span> <span style=\"font-size:20.8px;\">&nbsp;may&nbsp;</span> <span style=\"font-size:20.1px;\">&nbsp;but&nbsp;</span> <span style=\"font-size:20.1px;\">&nbsp;rate&nbsp;</span> <span style=\"font-size:19.7px;\">&nbsp;based&nbsp;</span> <span style=\"font-size:19.7px;\">&nbsp;molecular&nbsp;</span> <span style=\"font-size:19.5px;\">&nbsp;one&nbsp;</span> <span style=\"font-size:19.3px;\">&nbsp;analysis&nbsp;</span> <span style=\"font-size:19.3px;\">&nbsp;process&nbsp;</span> <span style=\"font-size:18.9px;\">&nbsp;into&nbsp;</span> <span style=\"font-size:18.7px;\">&nbsp;structure&nbsp;</span> <span style=\"font-size:18.5px;\">&nbsp;its&nbsp;</span> <span style=\"font-size:18.3px;\">&nbsp;evolutionary&nbsp;</span> <span style=\"font-size:18.2px;\">&nbsp;under&nbsp;</span> <span style=\"font-size:18.0px;\">&nbsp;simulated&nbsp;</span> <span style=\"font-size:17.4px;\">&nbsp;species&nbsp;</span> <span style=\"font-size:17.1px;\">&nbsp;during&nbsp;</span> <span style=\"font-size:17.1px;\">&nbsp;observed&nbsp;</span> <span style=\"font-size:16.8px;\">&nbsp;number&nbsp;</span> <span style=\"font-size:16.5px;\">&nbsp;genetic&nbsp;</span> <span style=\"font-size:16.5px;\">&nbsp;approach&nbsp;</span> <span style=\"font-size:16.4px;\">&nbsp;experimental&nbsp;</span> <span style=\"font-size:16.3px;\">&nbsp;new&nbsp;</span> <span style=\"font-size:16.1px;\">&nbsp;systems&nbsp;</span> <span style=\"font-size:16.1px;\">&nbsp;other&nbsp;</span> <span style=\"font-size:15.5px;\">&nbsp;present&nbsp;</span> <span style=\"font-size:15.5px;\">&nbsp;numerical&nbsp;</span> <span style=\"font-size:15.4px;\">&nbsp;well&nbsp;</span> <span style=\"font-size:15.1px;\">&nbsp;however&nbsp;</span> <span style=\"font-size:15.1px;\">&nbsp;found&nbsp;</span> <span style=\"font-size:15.0px;\">&nbsp;size&nbsp;</span> <span style=\"font-size:14.7px;\">&nbsp;through&nbsp;</span> <span style=\"font-size:14.7px;\">&nbsp;distribution&nbsp;</span> <span style=\"font-size:14.6px;\">&nbsp;conditions&nbsp;</span> <span style=\"font-size:14.5px;\">&nbsp;methods&nbsp;</span> <span style=\"font-size:14.5px;\">&nbsp;effects&nbsp;</span> <span style=\"font-size:14.5px;\">&nbsp;here&nbsp;</span> <span style=\"font-size:14.5px;\">&nbsp;gene&nbsp;</span> <span style=\"font-size:14.4px;\">&nbsp;all&nbsp;</span> <span style=\"font-size:14.4px;\">&nbsp;growth&nbsp;</span> <span style=\"font-size:14.3px;\">&nbsp;sequence&nbsp;</span> <span style=\"font-size:14.2px;\">&nbsp;only&nbsp;</span> <span style=\"font-size:14.2px;\">&nbsp;state&nbsp;</span> <span style=\"font-size:14.0px;\">&nbsp;high&nbsp;</span> <span style=\"font-size:14.0px;\">&nbsp;large&nbsp;</span> <span style=\"font-size:14.0px;\">&nbsp;parameters&nbsp;</span> <span style=\"font-size:13.9px;\">&nbsp;each&nbsp;</span> <span style=\"font-size:13.9px;\">&nbsp;protein&nbsp;</span> <span style=\"font-size:13.7px;\">&nbsp;surface&nbsp;</span> <span style=\"font-size:13.5px;\">&nbsp;within&nbsp;</span> <span style=\"font-size:13.3px;\">&nbsp;energy&nbsp;</span> <span style=\"font-size:13.2px;\">&nbsp;properties&nbsp;</span> <span style=\"font-size:13.2px;\">&nbsp;field&nbsp;</span> <span style=\"font-size:13.1px;\">&nbsp;phase&nbsp;</span> <span style=\"font-size:13.0px;\">&nbsp;obtained&nbsp;</span> <span style=\"font-size:13.0px;\">&nbsp;use&nbsp;</span> <span style=\"font-size:13.0px;\">&nbsp;populations&nbsp;</span> <span style=\"font-size:12.9px;\">&nbsp;function&nbsp;</span> <span style=\"font-size:12.9px;\">&nbsp;1&nbsp;</span> <span style=\"font-size:12.8px;\">&nbsp;first&nbsp;</span> <span style=\"font-size:12.8px;\">&nbsp;effect&nbsp;</span> <span style=\"font-size:12.6px;\">&nbsp;most&nbsp;</span> <span style=\"font-size:12.5px;\">&nbsp;some&nbsp;</span> <span style=\"font-size:12.4px;\">&nbsp;rates&nbsp;</span> <span style=\"font-size:12.3px;\">&nbsp;complex&nbsp;</span> <span style=\"font-size:12.3px;\">&nbsp;i&nbsp;</span> <span style=\"font-size:12.1px;\">&nbsp;over&nbsp;</span> <span style=\"font-size:12.0px;\">&nbsp;behavior&nbsp;</span> <span style=\"font-size:12.0px;\">&nbsp;where&nbsp;</span> <span style=\"font-size:12.0px;\">&nbsp;studies&nbsp;</span> <span style=\"font-size:12.0px;\">&nbsp;cell&nbsp;</span> <span style=\"font-size:11.9px;\">&nbsp;order&nbsp;</span> <span style=\"font-size:11.8px;\">&nbsp;important&nbsp;</span> <span style=\"font-size:11.7px;\">&nbsp;changes&nbsp;</span> <span style=\"font-size:11.7px;\">&nbsp;formation&nbsp;</span> <span style=\"font-size:11.6px;\">&nbsp;experiments&nbsp;</span> <span style=\"font-size:11.6px;\">&nbsp;theory&nbsp;</span> <span style=\"font-size:11.6px;\">&nbsp;processes&nbsp;</span> <span style=\"font-size:11.5px;\">&nbsp;interactions&nbsp;</span> <span style=\"font-size:11.5px;\">&nbsp;how&nbsp;</span> <span style=\"font-size:11.2px;\">&nbsp;network&nbsp;</span> <span style=\"font-size:11.2px;\">&nbsp;density&nbsp;</span> <span style=\"font-size:11.2px;\">&nbsp;due&nbsp;</span> <span style=\"font-size:11.2px;\">&nbsp;sequences&nbsp;</span> <span style=\"font-size:11.2px;\">&nbsp;computer&nbsp;</span> <span style=\"font-size:11.1px;\">&nbsp;compared&nbsp;</span> <span style=\"font-size:11.1px;\">&nbsp;e&nbsp;</span> <span style=\"font-size:11.1px;\">&nbsp;developed&nbsp;</span> <span style=\"font-size:11.1px;\">&nbsp;potential&nbsp;</span> <span style=\"font-size:11.0px;\">&nbsp;small&nbsp;</span> <span style=\"font-size:10.9px;\">&nbsp;temperature&nbsp;</span> <span style=\"font-size:10.9px;\">&nbsp;0&nbsp;</span> <span style=\"font-size:10.9px;\">&nbsp;they&nbsp;</span> <span style=\"font-size:10.8px;\">&nbsp;paper&nbsp;</span> <span style=\"font-size:10.8px;\">&nbsp;three&nbsp;</span> <span style=\"font-size:10.7px;\">&nbsp;2&nbsp;</span> <span style=\"font-size:10.7px;\">&nbsp;patterns&nbsp;</span> <span style=\"font-size:10.6px;\">&nbsp;cells&nbsp;</span> <span style=\"font-size:10.6px;\">&nbsp;flow&nbsp;</span> <span style=\"font-size:10.5px;\">&nbsp;initial&nbsp;</span> <span style=\"font-size:10.5px;\">&nbsp;while&nbsp;</span> <span style=\"font-size:10.5px;\">&nbsp;range&nbsp;</span> <span style=\"font-size:10.4px;\">&nbsp;studied&nbsp;</span> <span style=\"font-size:10.4px;\">&nbsp;proposed&nbsp;</span> <span style=\"font-size:10.2px;\">&nbsp;water&nbsp;</span> <span style=\"font-size:10.1px;\">&nbsp;many&nbsp;</span> <span style=\"font-size:10.1px;\">&nbsp;very&nbsp;</span> <span style=\"font-size:10.1px;\">&nbsp;among&nbsp;</span> <span style=\"font-size:10.1px;\">&nbsp;information&nbsp;</span> <span style=\"font-size:10.0px;\">&nbsp;algorithm&nbsp;</span> <span style=\"font-size:10.0px;\">&nbsp;then&nbsp;</span> <span style=\"font-size:9.9px;\">&nbsp;genes&nbsp;</span> <span style=\"font-size:9.9px;\">&nbsp;shown&nbsp;</span> <span style=\"font-size:9.9px;\">&nbsp;those&nbsp;</span> <span style=\"font-size:9.8px;\">&nbsp;several&nbsp;</span> <span style=\"font-size:9.8px;\">&nbsp;simple&nbsp;</span> <span style=\"font-size:9.8px;\">&nbsp;after&nbsp;</span> <span style=\"font-size:9.7px;\">&nbsp;networks&nbsp;</span> <span style=\"font-size:9.7px;\">&nbsp;case&nbsp;</span> <span style=\"font-size:9.6px;\">&nbsp;local&nbsp;</span> <span style=\"font-size:9.6px;\">&nbsp;structures&nbsp;</span> <span style=\"font-size:9.6px;\">&nbsp;equation&nbsp;</span> <span style=\"font-size:9.6px;\">&nbsp;human&nbsp;</span> <span style=\"font-size:9.6px;\">&nbsp;low&nbsp;</span> <span style=\"font-size:9.5px;\">&nbsp;provide&nbsp;</span> <span style=\"font-size:9.5px;\">&nbsp;simulate&nbsp;</span> <span style=\"font-size:9.5px;\">&nbsp;mutations&nbsp;</span> <span style=\"font-size:9.5px;\">&nbsp;mutation&nbsp;</span> <span style=\"font-size:9.5px;\">&nbsp;there&nbsp;</span> <span style=\"font-size:9.4px;\">&nbsp;if&nbsp;</span> <span style=\"font-size:9.4px;\">&nbsp;values&nbsp;</span> <span style=\"font-size:9.4px;\">&nbsp;thus&nbsp;</span> <span style=\"font-size:9.4px;\">&nbsp;spatial&nbsp;</span> <span style=\"font-size:9.3px;\">&nbsp;fitness&nbsp;</span> <span style=\"font-size:9.2px;\">&nbsp;equations&nbsp;</span> <span style=\"font-size:9.2px;\">&nbsp;phylogenetic&nbsp;</span> <span style=\"font-size:9.2px;\">&nbsp;single&nbsp;</span> <span style=\"font-size:9.2px;\">&nbsp;will&nbsp;</span> <span style=\"font-size:9.2px;\">&nbsp;increase&nbsp;</span> <span style=\"font-size:9.2px;\">&nbsp;applied&nbsp;</span> <span style=\"font-size:9.2px;\">&nbsp;interaction&nbsp;</span> <span style=\"font-size:9.2px;\">&nbsp;find&nbsp;</span> <span style=\"font-size:9.1px;\">&nbsp;possible&nbsp;</span> <span style=\"font-size:9.1px;\">&nbsp;level&nbsp;</span> <span style=\"font-size:9.1px;\">&nbsp;about&nbsp;</span> <span style=\"font-size:9.1px;\">&nbsp;because&nbsp;</span> <span style=\"font-size:9.1px;\">&nbsp;change&nbsp;</span> <span style=\"font-size:9.0px;\">&nbsp;set&nbsp;</span> <span style=\"font-size:9.0px;\">&nbsp;variation&nbsp;</span> <span style=\"font-size:9.0px;\">&nbsp;response&nbsp;</span> <span style=\"font-size:8.9px;\">&nbsp;role&nbsp;</span> <span style=\"font-size:8.8px;\">&nbsp;same&nbsp;</span> <span style=\"font-size:8.8px;\">&nbsp;biological&nbsp;</span> <span style=\"font-size:8.8px;\">&nbsp;natural&nbsp;</span> <span style=\"font-size:8.8px;\">&nbsp;result&nbsp;</span> <span style=\"font-size:8.8px;\">&nbsp;transition&nbsp;</span> <span style=\"font-size:8.8px;\">&nbsp;could&nbsp;</span> <span style=\"font-size:8.7px;\">&nbsp;suggest&nbsp;</span> <span style=\"font-size:8.7px;\">&nbsp;stochastic&nbsp;</span> <span style=\"font-size:8.6px;\">&nbsp;structural&nbsp;</span> <span style=\"font-size:8.6px;\">&nbsp;similar&nbsp;</span> <span style=\"font-size:8.6px;\">&nbsp;mechanisms&nbsp;</span> <span style=\"font-size:8.6px;\">&nbsp;including&nbsp;</span> <span style=\"font-size:8.6px;\">&nbsp;reaction&nbsp;</span> <span style=\"font-size:8.5px;\">&nbsp;development&nbsp;</span> <span style=\"font-size:8.5px;\">&nbsp;mechanism&nbsp;</span> <span style=\"font-size:8.5px;\">&nbsp;dynamic&nbsp;</span> <span style=\"font-size:8.5px;\">&nbsp;sites&nbsp;</span> <span style=\"font-size:8.5px;\">&nbsp;proteins&nbsp;</span> <span style=\"font-size:8.5px;\">&nbsp;no&nbsp;</span> <span style=\"font-size:8.5px;\">&nbsp;investigated&nbsp;</span> <span style=\"font-size:8.4px;\">&nbsp;random&nbsp;</span> <span style=\"font-size:8.4px;\">&nbsp;presented&nbsp;</span> <span style=\"font-size:8.4px;\">&nbsp;form&nbsp;</span> <span style=\"font-size:8.4px;\">&nbsp;various&nbsp;</span> <span style=\"font-size:8.4px;\">&nbsp;demonstrate&nbsp;</span> <span style=\"font-size:8.4px;\">&nbsp;significant&nbsp;</span> <span style=\"font-size:8.4px;\">&nbsp;work&nbsp;</span> <span style=\"font-size:8.4px;\">&nbsp;particular&nbsp;</span> <span style=\"font-size:8.4px;\">&nbsp;performed&nbsp;</span> <span style=\"font-size:8.3px;\">&nbsp;higher&nbsp;</span> <span style=\"font-size:8.3px;\">&nbsp;test&nbsp;</span> <span style=\"font-size:8.3px;\">&nbsp;computational&nbsp;</span> <span style=\"font-size:8.2px;\">&nbsp;states&nbsp;</span> <span style=\"font-size:8.2px;\">&nbsp;problem&nbsp;</span> <span style=\"font-size:8.1px;\">&nbsp;nonlinear&nbsp;</span> <span style=\"font-size:8.1px;\">&nbsp;even&nbsp;</span> <span style=\"font-size:8.1px;\">&nbsp;theoretical&nbsp;</span> <span style=\"font-size:8.1px;\">&nbsp;investigate&nbsp;</span> <span style=\"font-size:8.1px;\">&nbsp;understanding&nbsp;</span> <span style=\"font-size:8.1px;\">&nbsp;resistance&nbsp;</span> <span style=\"font-size:8.0px;\">&nbsp;dna&nbsp;</span>"
       ],
       "metadata": {},
       "output_type": "display_data",
       "text": [
        "<IPython.core.display.HTML at 0x1b7be650>"
       ]
      }
     ],
     "prompt_number": 33
    },
    {
     "cell_type": "markdown",
     "metadata": {},
     "source": [
      "Many words in these word clouds are obviously not good descriptors of the papers they appear in (the, of, and...). This is where you now come in with [tf\u2013idf](https://en.wikipedia.org/wiki/Tf%E2%80%93idf)..."
     ]
    }
   ],
   "metadata": {}
  }
 ]
}
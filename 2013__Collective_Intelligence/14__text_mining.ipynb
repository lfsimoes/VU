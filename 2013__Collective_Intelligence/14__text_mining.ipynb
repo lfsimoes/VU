{
 "metadata": {
  "name": ""
 },
 "nbformat": 3,
 "nbformat_minor": 0,
 "worksheets": [
  {
   "cells": [
    {
     "cell_type": "heading",
     "level": 1,
     "metadata": {},
     "source": [
      "Text mining"
     ]
    },
    {
     "cell_type": "markdown",
     "metadata": {},
     "source": [
      "[Lu\u00eds F. Sim\u00f5es](mailto:luis.simoes@vu.nl)<br>\n",
      "2013-11-08<div style=\"float: right\">`Notebooks:` [previous &larr;](http://nbviewer.ipython.org/urls/raw.github.com/lfsimoes/VU/master/2013__Collective_Intelligence/13__network_analysis.ipynb) &bull; [index &uarr;](https://github.com/lfsimoes/VU/tree/master/2013__Collective_Intelligence)</div><br><br>\n",
      "\n",
      "*******"
     ]
    },
    {
     "cell_type": "heading",
     "level": 2,
     "metadata": {},
     "source": [
      "Loading modules & datasets"
     ]
    },
    {
     "cell_type": "code",
     "collapsed": false,
     "input": [
      "import cPickle, bz2\n",
      "from collections import *"
     ],
     "language": "python",
     "metadata": {},
     "outputs": [],
     "prompt_number": 1
    },
    {
     "cell_type": "code",
     "collapsed": false,
     "input": [
      "search_term = 'evolution'\n",
      "\n",
      "Summaries_file = search_term + '__Summaries.pkl.bz2'\n",
      "Abstracts_file = search_term + '__Abstracts.pkl.bz2'"
     ],
     "language": "python",
     "metadata": {},
     "outputs": [],
     "prompt_number": 2
    },
    {
     "cell_type": "code",
     "collapsed": false,
     "input": [
      "Summaries = cPickle.load( bz2.BZ2File( Summaries_file, 'rb' ) )\n",
      "\n",
      "paper = namedtuple( 'paper', ['title', 'authors', 'year', 'doi'] )\n",
      "\n",
      "for (id, paper_info) in Summaries.iteritems():\n",
      "    Summaries[id] = paper( *paper_info )"
     ],
     "language": "python",
     "metadata": {},
     "outputs": [],
     "prompt_number": 3
    },
    {
     "cell_type": "code",
     "collapsed": false,
     "input": [
      "Abstracts = cPickle.load( bz2.BZ2File( Abstracts_file, 'rb' ) )"
     ],
     "language": "python",
     "metadata": {},
     "outputs": [],
     "prompt_number": 4
    },
    {
     "cell_type": "heading",
     "level": 2,
     "metadata": {},
     "source": [
      "Abstracts dataset"
     ]
    },
    {
     "cell_type": "code",
     "collapsed": false,
     "input": [
      "with_abstr = sum( 1 for a in Abstracts.itervalues() if a!='' )\n",
      "print 'Abstracts available for %d (%.2f %%) of the papers in the dataset.' % (with_abstr, 100.*with_abstr/len(Abstracts))"
     ],
     "language": "python",
     "metadata": {},
     "outputs": [
      {
       "output_type": "stream",
       "stream": "stdout",
       "text": [
        "Abstracts available for 187060 (91.10 %) of the papers in the dataset.\n"
       ]
      }
     ],
     "prompt_number": 5
    },
    {
     "cell_type": "heading",
     "level": 3,
     "metadata": {},
     "source": [
      "Word frequencies"
     ]
    },
    {
     "cell_type": "markdown",
     "metadata": {},
     "source": [
      "The function below will allows us to identify words occurring in a string:"
     ]
    },
    {
     "cell_type": "code",
     "collapsed": false,
     "input": [
      "def words( text ):\n",
      "    return Counter([\n",
      "        word.replace(',','').replace('.','').lower()\n",
      "        for word in text.split(' ')\n",
      "        if word != ''     # the split by spaces generates empty strings when consecutive spaces occur in the title; this discards them\n",
      "        ])"
     ],
     "language": "python",
     "metadata": {},
     "outputs": [],
     "prompt_number": 6
    },
    {
     "cell_type": "markdown",
     "metadata": {},
     "source": [
      "Here we apply it to two abstracts:"
     ]
    },
    {
     "cell_type": "code",
     "collapsed": false,
     "input": [
      "Abstracts[ 7466396 ]"
     ],
     "language": "python",
     "metadata": {},
     "outputs": [
      {
       "metadata": {},
       "output_type": "pyout",
       "prompt_number": 7,
       "text": [
        "\"Cooperation in organisms, whether bacteria or primates, has been a difficulty for evolutionary theory since Darwin. On the assumption that interactions between pairs of individuals occur on a probabilistic basis, a model is developed based on the concept of an evolutionarily stable strategy in the context of the Prisoner's Dilemma game. Deductions from the model, and the results of a computer tournament show how cooperation based on reciprocity can get started in an asocial world, can thrive while interacting with a wide range of other strategies, and can resist invasion once fully established. Potential applications include specific aspects of territoriality, mating, and disease.\""
       ]
      }
     ],
     "prompt_number": 7
    },
    {
     "cell_type": "code",
     "collapsed": false,
     "input": [
      "w1 = words( Abstracts[ 7466396 ] )\n",
      "w1"
     ],
     "language": "python",
     "metadata": {},
     "outputs": [
      {
       "metadata": {},
       "output_type": "pyout",
       "prompt_number": 8,
       "text": [
        "Counter({'of': 6, 'the': 6, 'a': 5, 'on': 4, 'and': 3, 'in': 3, 'can': 3, 'an': 2, 'based': 2, 'cooperation': 2, 'model': 2, 'invasion': 1, 'evolutionary': 1, 'dilemma': 1, 'show': 1, 'developed': 1, 'is': 1, 'tournament': 1, 'results': 1, 'resist': 1, 'concept': 1, 'include': 1, 'strategy': 1, 'bacteria': 1, 'established': 1, 'mating': 1, 'reciprocity': 1, 'interacting': 1, 'for': 1, 'basis': 1, 'with': 1, 'since': 1, 'range': 1, 'been': 1, 'occur': 1, 'how': 1, 'that': 1, 'assumption': 1, 'between': 1, 'get': 1, 'has': 1, \"prisoner's\": 1, 'potential': 1, 'thrive': 1, 'wide': 1, 'aspects': 1, 'theory': 1, 'interactions': 1, 'started': 1, 'stable': 1, 'territoriality': 1, 'difficulty': 1, 'game': 1, 'asocial': 1, 'from': 1, 'primates': 1, 'probabilistic': 1, 'pairs': 1, 'darwin': 1, 'evolutionarily': 1, 'organisms': 1, 'world': 1, 'applications': 1, 'whether': 1, 'deductions': 1, 'disease': 1, 'specific': 1, 'while': 1, 'individuals': 1, 'context': 1, 'fully': 1, 'strategies': 1, 'other': 1, 'computer': 1, 'or': 1, 'once': 1})"
       ]
      }
     ],
     "prompt_number": 8
    },
    {
     "cell_type": "code",
     "collapsed": false,
     "input": [
      "w2 = words( Abstracts[ 8316296 ] )\n",
      "w2"
     ],
     "language": "python",
     "metadata": {},
     "outputs": [
      {
       "metadata": {},
       "output_type": "pyout",
       "prompt_number": 9,
       "text": [
        "Counter({'the': 8, 'of': 6, 'and': 6, 'in': 4, 'to': 3, 'be': 3, 'tit-for-tat': 3, 'pavlov': 3, 'is': 3, 'cooperative': 2, 'based': 2, 'seems': 2, 'success': 2, 'for': 2, 'behaviour': 2, 'on': 2, 'simple': 2, 'lose-shift': 2, 'strategy': 2, 'cooperators': 2, 'populations': 2, 'this': 2, 'unconditional': 2, 'as': 2, 'simulations': 2, 'which': 2, 'win-stay': 2, 'tit-for-tat:': 1, 'evolutionary': 1, 'being': 1, 'over': 1, 'communities': 1, 'mistakes': 1, 'including': 1, 'behavioural': 1, 'ensembles': 1, 'situations': 1, 'undermined': 1, 'report': 1, 'evolution': 1, 'did': 1, 'biological': 1, 'unexpected': 1, 'often': 1, 'second': 1, 'computer': 1, 'since': 1, 'mutation': 1, 'embodies': 1, 'suggesting': 1, 'tournaments': 1, 'correct': 1, 'protagonist:': 1, 'we': 1, 'here': 1, 'advantages': 1, 'from': 1, 'by': 1, 'turn': 1, 'defectors': 1, 'became': 1, 'major': 1, 'dilemma': 1, 'well-known': 1, 'exploit': 1, 'agents': 1, 'another': 1, 'metaphor': 1, 'leading': 1, 'outstandingly': 1, 'two': 1, 'their': 1, \"axelrod's\": 1, 'more': 1, 'selection': 1, 'invite': 1, 'altruism': 1, 'than': 1, 'present': 1, 'reciprocal': 1, 'prevents': 1, 'can': 1, 'heterogeneous': 1, 'strategies': 1, 'it': 1, 'selfish': 1, 'that': 1, 'feature': 1, 'mechanism': 1, 'occasional': 1, 'application': 1, 'widespread': 1, \"prisoner's\": 1, 'extended': 1, 'may': 1, 'important': 1, 'robust': 1, 'probabilistic': 1, 'subsequently': 1, 'a': 1, 'natural': 1, 'especially': 1, 'well': 1, 'rule': 1, 'fundamental': 1, 'axelrod': 1, \"pavlov's\": 1, 'paradigm': 1})"
       ]
      }
     ],
     "prompt_number": 9
    },
    {
     "cell_type": "markdown",
     "metadata": {},
     "source": [
      "We can intersect the sets of words occurring in each abstract to obtain those that appear in both."
     ]
    },
    {
     "cell_type": "code",
     "collapsed": false,
     "input": [
      "shared = sorted( set( w1.keys() ) & set( w2.keys() ), key=lambda i:w1[i]+w2[i], reverse=True )\n",
      "shared"
     ],
     "language": "python",
     "metadata": {},
     "outputs": [
      {
       "metadata": {},
       "output_type": "pyout",
       "prompt_number": 10,
       "text": [
        "['the',\n",
        " 'of',\n",
        " 'and',\n",
        " 'in',\n",
        " 'on',\n",
        " 'a',\n",
        " 'is',\n",
        " 'based',\n",
        " 'can',\n",
        " 'for',\n",
        " 'strategy',\n",
        " 'evolutionary',\n",
        " 'dilemma',\n",
        " 'from',\n",
        " \"prisoner's\",\n",
        " 'since',\n",
        " 'strategies',\n",
        " 'that',\n",
        " 'computer',\n",
        " 'probabilistic']"
       ]
      }
     ],
     "prompt_number": 10
    },
    {
     "cell_type": "markdown",
     "metadata": {},
     "source": [
      "And we can now represent each abstract just by this set of selected words:"
     ]
    },
    {
     "cell_type": "code",
     "collapsed": false,
     "input": [
      "[\n",
      "    [ bag.get(w,0) for w in shared ]\n",
      "    for bag in [w1,w2]\n",
      "    ]"
     ],
     "language": "python",
     "metadata": {},
     "outputs": [
      {
       "metadata": {},
       "output_type": "pyout",
       "prompt_number": 11,
       "text": [
        "[[6, 6, 3, 3, 4, 5, 1, 2, 3, 1, 1, 1, 1, 1, 1, 1, 1, 1, 1, 1],\n",
        " [8, 6, 6, 4, 2, 1, 3, 2, 1, 2, 2, 1, 1, 1, 1, 1, 1, 1, 1, 1]]"
       ]
      }
     ],
     "prompt_number": 11
    }
   ],
   "metadata": {}
  }
 ]
}
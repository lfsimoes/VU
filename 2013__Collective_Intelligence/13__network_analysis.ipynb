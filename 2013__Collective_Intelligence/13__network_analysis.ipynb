{
 "metadata": {
  "name": ""
 },
 "nbformat": 3,
 "nbformat_minor": 0,
 "worksheets": [
  {
   "cells": [
    {
     "cell_type": "heading",
     "level": 1,
     "metadata": {},
     "source": [
      "Network analysis"
     ]
    },
    {
     "cell_type": "markdown",
     "metadata": {},
     "source": [
      "[Lu\u00eds F. Sim\u00f5es](mailto:luis.simoes@vu.nl)<br>\n",
      "2013-11-06 *(updated: 2013-11-07)*<div style=\"float: right\">`Notebooks:` [&larr; previous](http://nbviewer.ipython.org/urls/raw.github.com/lfsimoes/VU/master/2013__Collective_Intelligence/12__inspecting_the_data.ipynb) &bull; [index &uarr;](https://github.com/lfsimoes/VU/tree/master/2013__Collective_Intelligence)</div><br><br>\n",
      "\n",
      "*******"
     ]
    },
    {
     "cell_type": "markdown",
     "metadata": {},
     "source": [
      "This notebook exemplifies ways of using those parts of the dataset that are better seen as representing graphs. Namely, the co-authorship, and citations networks."
     ]
    },
    {
     "cell_type": "heading",
     "level": 2,
     "metadata": {},
     "source": [
      "Loading modules & datasets"
     ]
    },
    {
     "cell_type": "code",
     "collapsed": false,
     "input": [
      "import cPickle, bz2\n",
      "from collections import *\n",
      "\n",
      "\n",
      "import numpy as np\n",
      "import matplotlib.pyplot as plt\n",
      "\n",
      "# show plots inline within the notebook\n",
      "%matplotlib inline\n",
      "# set plots' resolution\n",
      "plt.rcParams['savefig.dpi'] = 100\n",
      "\n",
      "from IPython.display import display, HTML"
     ],
     "language": "python",
     "metadata": {},
     "outputs": [],
     "prompt_number": 1
    },
    {
     "cell_type": "code",
     "collapsed": false,
     "input": [
      "search_term = 'evolution'\n",
      "\n",
      "Ids_file       = search_term + '__Ids.pkl.bz2'\n",
      "Summaries_file = search_term + '__Summaries.pkl.bz2'\n",
      "Citations_file = search_term + '__Citations.pkl.bz2'"
     ],
     "language": "python",
     "metadata": {},
     "outputs": [],
     "prompt_number": 2
    },
    {
     "cell_type": "code",
     "collapsed": false,
     "input": [
      "Ids = cPickle.load( bz2.BZ2File( Ids_file, 'rb' ) )"
     ],
     "language": "python",
     "metadata": {},
     "outputs": [],
     "prompt_number": 3
    },
    {
     "cell_type": "code",
     "collapsed": false,
     "input": [
      "Summaries = cPickle.load( bz2.BZ2File( Summaries_file, 'rb' ) )\n",
      "\n",
      "paper = namedtuple( 'paper', ['title', 'authors', 'year', 'doi'] )\n",
      "\n",
      "for (id, paper_info) in Summaries.iteritems():\n",
      "    Summaries[id] = paper( *paper_info )"
     ],
     "language": "python",
     "metadata": {},
     "outputs": [],
     "prompt_number": 4
    },
    {
     "cell_type": "code",
     "collapsed": false,
     "input": [
      "Citations = cPickle.load( bz2.BZ2File( Citations_file, 'rb' ) )"
     ],
     "language": "python",
     "metadata": {},
     "outputs": [],
     "prompt_number": 5
    },
    {
     "cell_type": "heading",
     "level": 2,
     "metadata": {},
     "source": [
      "Auxiliary functions"
     ]
    },
    {
     "cell_type": "markdown",
     "metadata": {},
     "source": [
      "The function below will allow us to display paper summaries in an IPython-aware way.\n",
      "\n",
      "You can find examples [here](http://nbviewer.ipython.org/urls/raw.github.com/ipython/ipython/1.x/examples/notebooks/Part%205%20-%20Rich%20Display%20System.ipynb) of how to use IPython's Rich Display System, or the whole set of examples [here](https://github.com/ipython/ipython/tree/1.x/examples/notebooks)."
     ]
    },
    {
     "cell_type": "code",
     "collapsed": false,
     "input": [
      "def display_summary( id, extra_text='' ):\n",
      "    \"\"\"\n",
      "    Function for printing a paper's summary through IPython's Rich Display System.\n",
      "    Trims long titles or author lists, and links to the paper's  DOI (when available).\n",
      "    \"\"\"\n",
      "    s = Summaries[ id ]\n",
      "    \n",
      "    title = ( s.title if s.title[-1]!='.' else s.title[:-1] )\n",
      "    title = title[:150].rstrip() + ('' if len(title)<=150 else '...')\n",
      "    if s.doi!='':\n",
      "        title = '<a href=http://dx.doi.org/%s>%s</a>' % (s.doi, title)\n",
      "    \n",
      "    authors = ', '.join( s.authors[:5] ) + ('' if len(s.authors)<=5 else ', ...')\n",
      "    \n",
      "    lines = [\n",
      "        title,\n",
      "        authors,\n",
      "        str(s.year),\n",
      "        '<small>id: %d%s</small>' % (id, extra_text)\n",
      "        ]\n",
      "    \n",
      "    display( HTML( '<blockquote>%s</blockquote>' % '<br>'.join(lines) ) )"
     ],
     "language": "python",
     "metadata": {},
     "outputs": [],
     "prompt_number": 6
    },
    {
     "cell_type": "code",
     "collapsed": false,
     "input": [
      "# usage example\n",
      "display_summary( 23144668 )"
     ],
     "language": "python",
     "metadata": {},
     "outputs": [
      {
       "html": [
        "<blockquote><a href=http://dx.doi.org/10.1007/s12065-012-0071-x>Embodied artificial evolution: Artificial evolutionary systems in the 21st Century</a><br>Eiben AE, Kernbach S, Haasdijk E<br>2012<br><small>id: 23144668</small></blockquote>"
       ],
       "metadata": {},
       "output_type": "display_data",
       "text": [
        "<IPython.core.display.HTML at 0xff28fd0>"
       ]
      }
     ],
     "prompt_number": 7
    },
    {
     "cell_type": "heading",
     "level": 2,
     "metadata": {},
     "source": [
      "Co-authorship network"
     ]
    },
    {
     "cell_type": "markdown",
     "metadata": {},
     "source": [
      "`Summaries` maps paper *ids* to paper *summaries*. Let us now create here mappings by different criteria.\n",
      "\n",
      "We'll start by building a mapping from *authors*, to the set of *ids* of papers they authored. \n",
      "We'll be using Python's [sets](http://docs.python.org/2/library/stdtypes.html#set-types-set-frozenset) for that purpose."
     ]
    },
    {
     "cell_type": "code",
     "collapsed": false,
     "input": [
      "papers_of_author = defaultdict(set)\n",
      "\n",
      "for id,p in Summaries.iteritems():\n",
      "    for a in p.authors:\n",
      "        papers_of_author[ a ].add( id )"
     ],
     "language": "python",
     "metadata": {},
     "outputs": [],
     "prompt_number": 8
    },
    {
     "cell_type": "code",
     "collapsed": false,
     "input": [
      "papers_of_author['Eiben AE']"
     ],
     "language": "python",
     "metadata": {},
     "outputs": [
      {
       "metadata": {},
       "output_type": "pyout",
       "prompt_number": 9,
       "text": [
        "{10021763, 23144668}"
       ]
      }
     ],
     "prompt_number": 9
    },
    {
     "cell_type": "code",
     "collapsed": false,
     "input": [
      "for id in papers_of_author['Eiben AE']:\n",
      "    display_summary( id )"
     ],
     "language": "python",
     "metadata": {},
     "outputs": [
      {
       "html": [
        "<blockquote>Empirical investigation of multiparent recombination operators in evolution strategies<br>Eiben AE, B\u00e4ck T<br>1997<br><small>id: 10021763</small></blockquote>"
       ],
       "metadata": {},
       "output_type": "display_data",
       "text": [
        "<IPython.core.display.HTML at 0x37f7290>"
       ]
      },
      {
       "html": [
        "<blockquote><a href=http://dx.doi.org/10.1007/s12065-012-0071-x>Embodied artificial evolution: Artificial evolutionary systems in the 21st Century</a><br>Eiben AE, Kernbach S, Haasdijk E<br>2012<br><small>id: 23144668</small></blockquote>"
       ],
       "metadata": {},
       "output_type": "display_data",
       "text": [
        "<IPython.core.display.HTML at 0x37f7290>"
       ]
      }
     ],
     "prompt_number": 10
    },
    {
     "cell_type": "markdown",
     "metadata": {},
     "source": [
      "We now build a co-authorship network, a graph linking *authors*, to the set of *co-authors* they have published with."
     ]
    },
    {
     "cell_type": "code",
     "collapsed": false,
     "input": [
      "coauthors = defaultdict(set)\n",
      "\n",
      "for p in Summaries.itervalues():\n",
      "    for a in p.authors:\n",
      "        coauthors[ a ].update( p.authors )\n",
      "\n",
      "# the code above results in each author being listed as having co-autored with himself. We now remove such references here\n",
      "for a,ca in coauthors.iteritems():\n",
      "    ca.remove( a )"
     ],
     "language": "python",
     "metadata": {},
     "outputs": [],
     "prompt_number": 11
    },
    {
     "cell_type": "code",
     "collapsed": false,
     "input": [
      "print ', '.join( coauthors['Eiben AE'] )"
     ],
     "language": "python",
     "metadata": {},
     "outputs": [
      {
       "output_type": "stream",
       "stream": "stdout",
       "text": [
        "Haasdijk E, B\u00e4ck T, Kernbach S\n"
       ]
      }
     ],
     "prompt_number": 12
    },
    {
     "cell_type": "markdown",
     "metadata": {},
     "source": [
      "Because both an author's papers, and its collaborators are stored as Python sets, we can then use [set operations](http://docs.python.org/2/library/stdtypes.html#set-types-set-frozenset) to easily combine different sets, with low computational complexity. Here are a few examples.\n",
      "\n",
      "The intersection of two author's publication records, can be used to obtain the set of papers they co-authored together:"
     ]
    },
    {
     "cell_type": "code",
     "collapsed": false,
     "input": [
      "for id in papers_of_author['Wilson EO'] & papers_of_author['Nowak MA']:\n",
      "    display_summary( id )"
     ],
     "language": "python",
     "metadata": {},
     "outputs": [
      {
       "html": [
        "<blockquote><a href=http://dx.doi.org/10.1038/nature09205>The evolution of eusociality</a><br>Nowak MA, Tarnita CE, Wilson EO<br>2010<br><small>id: 20740005</small></blockquote>"
       ],
       "metadata": {},
       "output_type": "display_data",
       "text": [
        "<IPython.core.display.HTML at 0x37f71f0>"
       ]
      }
     ],
     "prompt_number": 13
    },
    {
     "cell_type": "markdown",
     "metadata": {},
     "source": [
      "The intersection of two author's collaborators sets, identifies people they have both published with:"
     ]
    },
    {
     "cell_type": "code",
     "collapsed": false,
     "input": [
      "coauthors[u'B\u00e4ck T'] & coauthors['Haasdijk E']"
     ],
     "language": "python",
     "metadata": {},
     "outputs": [
      {
       "metadata": {},
       "output_type": "pyout",
       "prompt_number": 14,
       "text": [
        "{'Eiben AE'}"
       ]
      }
     ],
     "prompt_number": 14
    },
    {
     "cell_type": "markdown",
     "metadata": {},
     "source": [
      "Set difference, allows us to remove from an author's publication record, those papers that were published with a given author:"
     ]
    },
    {
     "cell_type": "code",
     "collapsed": false,
     "input": [
      "for id in papers_of_author['Eiben AE'] - papers_of_author['Haasdijk E']:\n",
      "    display_summary( id )"
     ],
     "language": "python",
     "metadata": {},
     "outputs": [
      {
       "html": [
        "<blockquote>Empirical investigation of multiparent recombination operators in evolution strategies<br>Eiben AE, B\u00e4ck T<br>1997<br><small>id: 10021763</small></blockquote>"
       ],
       "metadata": {},
       "output_type": "display_data",
       "text": [
        "<IPython.core.display.HTML at 0x14787110>"
       ]
      }
     ],
     "prompt_number": 15
    },
    {
     "cell_type": "markdown",
     "metadata": {},
     "source": [
      "Imagine you know who the members of a research group are, and want to obtain the union of all papers published by the group's members. Most certainly, there is plenty of collaboration among group members, with many papers authored together, but we want to obtain a list of publications with no duplicate entries. Here is a way to achieve that, using Python's [reduce](http://docs.python.org/2/library/functions.html#reduce) function, to iteratively perform a union of all their publication records. We take as example three current or former members from the [IRIDIA](http://code.ulb.ac.be/iridia.home.php) lab. The make the list shorter, we show only 5 of the resulting papers."
     ]
    },
    {
     "cell_type": "code",
     "collapsed": false,
     "input": [
      "authors = [ 'Dorigo M', 'Trianni V', 'Lenaerts T' ]\n",
      "\n",
      "group_publications = reduce( set.union, [ papers_of_author[a] for a in authors ], set() )\n",
      "\n",
      "for id in list(group_publications)[5:10]:\n",
      "    display_summary( id )"
     ],
     "language": "python",
     "metadata": {},
     "outputs": [
      {
       "html": [
        "<blockquote><a href=http://dx.doi.org/10.1007/s00422-006-0080-x>Self-organisation and communication in groups of simulated and physical robots</a><br>Trianni V, Dorigo M<br>2006<br><small>id: 16821036</small></blockquote>"
       ],
       "metadata": {},
       "output_type": "display_data",
       "text": [
        "<IPython.core.display.HTML at 0x14787450>"
       ]
      },
      {
       "html": [
        "<blockquote>Self-organized coordinated motion in groups of physically connected robots<br>Baldassarre G, Trianni V, Bonani M, Mondada F, Dorigo M, ...<br>2007<br><small>id: 17278574</small></blockquote>"
       ],
       "metadata": {},
       "output_type": "display_data",
       "text": [
        "<IPython.core.display.HTML at 0x14787430>"
       ]
      },
      {
       "html": [
        "<blockquote><a href=http://dx.doi.org/10.1073/pnas.0508201103>Evolutionary dynamics of social dilemmas in structured heterogeneous populations</a><br>Santos FC, Pacheco JM, Lenaerts T<br>2006<br><small>id: 16484371</small></blockquote>"
       ],
       "metadata": {},
       "output_type": "display_data",
       "text": [
        "<IPython.core.display.HTML at 0x14787430>"
       ]
      },
      {
       "html": [
        "<blockquote><a href=http://dx.doi.org/10.1162/artl.2008.14.2.157>Evolving homogeneous neurocontrollers for a group of heterogeneous robots: coordinated motion, cooperation, and acoustic communication</a><br>Tuci E, Ampatzis C, Vicentini F, Dorigo M<br>2008<br><small>id: 18331188</small></blockquote>"
       ],
       "metadata": {},
       "output_type": "display_data",
       "text": [
        "<IPython.core.display.HTML at 0x14787430>"
       ]
      },
      {
       "html": [
        "<blockquote><a href=http://dx.doi.org/10.1162/artl.2009.15.1.15106>A synthon approach to artificial chemistry</a><br>Lenaerts T, Bersini H<br>2009<br><small>id: 18855566</small></blockquote>"
       ],
       "metadata": {},
       "output_type": "display_data",
       "text": [
        "<IPython.core.display.HTML at 0x14787430>"
       ]
      }
     ],
     "prompt_number": 16
    },
    {
     "cell_type": "heading",
     "level": 3,
     "metadata": {},
     "source": [
      "Network statistics"
     ]
    },
    {
     "cell_type": "code",
     "collapsed": false,
     "input": [
      "print 'Number of nodes: %8d (node == author)' % len(coauthors)\n",
      "print 'Number of links: %8d (link == collaboration between the two linked authors on at least one paper)'  \\\n",
      "        % sum( len(cas) for cas in coauthors.itervalues() )"
     ],
     "language": "python",
     "metadata": {},
     "outputs": [
      {
       "output_type": "stream",
       "stream": "stdout",
       "text": [
        "Number of nodes:   424178 (node == author)\n",
        "Number of links:  6865432 (link == collaboration between the two linked authors on at least one paper)"
       ]
      },
      {
       "output_type": "stream",
       "stream": "stdout",
       "text": [
        "\n"
       ]
      }
     ],
     "prompt_number": 17
    },
    {
     "cell_type": "heading",
     "level": 4,
     "metadata": {},
     "source": [
      "[Degree distribution](https://en.wikipedia.org/wiki/Degree_distribution)"
     ]
    },
    {
     "cell_type": "markdown",
     "metadata": {},
     "source": [
      "With this data in hand, we can plot the distribution showing the number of collaborators a scientist has published with in its full publication record:"
     ]
    },
    {
     "cell_type": "code",
     "collapsed": false,
     "input": [
      "plt.hist( x=[ len(ca) for ca in coauthors.itervalues() ], bins=range(55), histtype='bar', align='left', normed=True )\n",
      "plt.xlabel('number of collaborators')\n",
      "plt.ylabel('fraction of scientists')\n",
      "plt.xlim(0,50);"
     ],
     "language": "python",
     "metadata": {},
     "outputs": [
      {
       "metadata": {},
       "output_type": "display_data",
       "png": "[encoded data removed]",
       "text": [
        "<matplotlib.figure.Figure at 0x37b0e90>"
       ]
      }
     ],
     "prompt_number": 18
    },
    {
     "cell_type": "heading",
     "level": 2,
     "metadata": {},
     "source": [
      "Citations network"
     ]
    },
    {
     "cell_type": "markdown",
     "metadata": {},
     "source": [
      "We'll start by expanding the `Citations` dataset into two mappings: \n",
      "\n",
      "* `papers_citing[ id ]`: papers citing a given paper;\n",
      "* `cited_by[ id ]`: papers cited by a given paper (in other words, its list of references).\n",
      "\n",
      "If we see the Citations dataset as a directed graph where papers are nodes, and citations links between then, then `papers_citing` gives you the list of a node's incoming links, whereas `cited_by` gives you the list of its outgoing links.\n",
      "\n",
      "The dataset was assembled by querying for papers citing a given paper. As a result, the data mapped to in `cited_by` (its values) is necessarily limited to ids of papers that are part of the dataset (they are members of `Ids`). Two papers that are never cited, but do themselves cite many of the same papers (papers that are not members of `Ids`), are probably similar/relevant to each other. Unfortunately, that kind of data is not currently available."
     ]
    },
    {
     "cell_type": "code",
     "collapsed": false,
     "input": [
      "papers_citing = Citations  # no changes needed, this is what we are storing already in the Citations dataset\n",
      "\n",
      "cited_by = defaultdict(list)\n",
      "\n",
      "for ref, papers_citing_ref in papers_citing.iteritems():\n",
      "    for id in papers_citing_ref:\n",
      "        cited_by[ id ].append( ref )"
     ],
     "language": "python",
     "metadata": {},
     "outputs": [],
     "prompt_number": 19
    },
    {
     "cell_type": "markdown",
     "metadata": {},
     "source": [
      "Back in the first notebook we used as an example the paper with PubMed ID 20949101 (\"Critical dynamics in the evolution of stochastic strategies for the iterated prisoner's dilemma\"). We can now use the `cited_by` mapping to retrieve what we know of its list of references.\n",
      "\n",
      "As mentioned above, because our server queries asked for papers citing a given paper (and not papers a paper cites), the papers we get through `cited_by` are then necessarily all members of our datasets, and we can therefore find them in `Summaries`.\n",
      "\n",
      "You can match the list below with [the paper's References section](http://www.ncbi.nlm.nih.gov/pmc/articles/PMC2951343/#__ref-listid953859title). We have identified 22 of its references, from a total of 52."
     ]
    },
    {
     "cell_type": "code",
     "collapsed": false,
     "input": [
      "paper_id = 20949101\n",
      "refs = { id : Summaries[id].title for id in cited_by[20949101] }\n",
      "print len(refs), 'references identified for the paper with id', paper_id\n",
      "refs"
     ],
     "language": "python",
     "metadata": {},
     "outputs": [
      {
       "output_type": "stream",
       "stream": "stdout",
       "text": [
        "22 references identified for the paper with id 20949101\n"
       ]
      },
      {
       "metadata": {},
       "output_type": "pyout",
       "prompt_number": 20,
       "text": [
        "{5875340: 'The genetical evolution of social behaviour. II.',\n",
        " 7466396: 'The evolution of cooperation.',\n",
        " 8316296: \"A strategy of win-stay, lose-shift that outperforms tit-for-tat in the Prisoner's Dilemma game.\",\n",
        " 10201376: \"Prisoner's dilemma in an RNA virus.\",\n",
        " 10525399: 'Evolution of cooperation in spatially structured populations',\n",
        " 10781045: 'Evolution of biological complexity.',\n",
        " 11140681: 'Altruism and social cheating in the social amoeba Dictyostelium discoideum.',\n",
        " 11544353: 'Quorum sensing in bacteria.',\n",
        " 11719803: 'Evolution of cooperation without reciprocity.',\n",
        " 12736677: 'The evolutionary origin of complex features.',\n",
        " 15071593: 'Emergence of cooperation and evolutionary stability in finite populations.',\n",
        " 16251955: 'Evolution of indirect reciprocity.',\n",
        " 16724065: 'A simple rule for the evolution of cooperation on graphs and social networks.',\n",
        " 16829575: 'Evolution of cooperation by multilevel selection.',\n",
        " 17087973: 'The evolution of altruism: game theory in multilevel selection and inclusive fitness.',\n",
        " 17158317: 'Five rules for the evolution of cooperation.',\n",
        " 17280398: 'Coevolution of strategy and structure in complex networks with dynamical linking.',\n",
        " 18351873: \"Social diversity and promotion of cooperation in the spatial prisoner's dilemma game.\",\n",
        " 18765343: 'A simple and general explanation for the evolution of altruism.',\n",
        " 19794414: 'Cheater-resistance is not futile.',\n",
        " 19837129: 'Coevolutionary games--a mini review.',\n",
        " 20008382: 'Evolutionary dynamics in structured populations.'}"
       ]
      }
     ],
     "prompt_number": 20
    },
    {
     "cell_type": "markdown",
     "metadata": {},
     "source": [
      "If we lookup the same paper in `papers_citing`, we now see that one of the papers citing it is itself part of our dataset, but the other one (with PubMed ID 23903782) is instead a citation coming from outside the dataset. Back in the first notebook, we saw that this id corresponds to the paper 'Evolutionary instability of zero-determinant strategies demonstrates that winning is not everything' (quite an interesting paper actually). But, being an \"outsider\", its information is not in `Summaries`. Of course, you can always issue a new Entrez query to get its details if you want to."
     ]
    },
    {
     "cell_type": "code",
     "collapsed": false,
     "input": [
      "{ id : Summaries.get(id,['??'])[0]  for id in papers_citing[paper_id] }"
     ],
     "language": "python",
     "metadata": {},
     "outputs": [
      {
       "metadata": {},
       "output_type": "pyout",
       "prompt_number": 21,
       "text": [
        "{23903782: '??',\n",
        " 24003115: \"From extortion to generosity, evolution in the Iterated Prisoner's Dilemma.\"}"
       ]
      }
     ],
     "prompt_number": 21
    },
    {
     "cell_type": "markdown",
     "metadata": {},
     "source": [
      "Of course, though no direct query was ever issued for this paper id 23903782, its repeated occurrence in other papers' citation lists does allow us to reconstruct a good portion of its references. Below is the list of papers in our dataset cited by that paper (10 references, out of the paper's total of 32, as you can see [here](http://www.nature.com/ncomms/2013/130801/ncomms3193/full/ncomms3193.html#references)):"
     ]
    },
    {
     "cell_type": "code",
     "collapsed": false,
     "input": [
      "paper_id2 = 23903782\n",
      "refs2 = { id : Summaries[id].title for id in cited_by[paper_id2] }\n",
      "print len(refs2), 'references identified for the paper with id', paper_id2\n",
      "refs2"
     ],
     "language": "python",
     "metadata": {},
     "outputs": [
      {
       "output_type": "stream",
       "stream": "stdout",
       "text": [
        "10 references identified for the paper with id 23903782\n"
       ]
      },
      {
       "metadata": {},
       "output_type": "pyout",
       "prompt_number": 22,
       "text": [
        "{5875340: 'The genetical evolution of social behaviour. II.',\n",
        " 7466396: 'The evolution of cooperation.',\n",
        " 8316296: \"A strategy of win-stay, lose-shift that outperforms tit-for-tat in the Prisoner's Dilemma game.\",\n",
        " 10976075: 'Fairness versus reason in the ultimatum game.',\n",
        " 11719803: 'Evolution of cooperation without reciprocity.',\n",
        " 12736677: 'The evolutionary origin of complex features.',\n",
        " 17342204: 'Chromodynamics of cooperation in finite populations.',\n",
        " 20949101: \"Critical dynamics in the evolution of stochastic strategies for the iterated prisoner's dilemma.\",\n",
        " 21697174: 'Impact of epistasis and pleiotropy on evolutionary adaptation.',\n",
        " 22400598: 'Evolution and stability of altruist strategies in microbial games.'}"
       ]
      }
     ],
     "prompt_number": 22
    },
    {
     "cell_type": "markdown",
     "metadata": {},
     "source": [
      "We can easily combine boh mappings (incoming and outgoing links) to answer such questions as: \"which papers are the most cited by those that cite a given paper?\".\n",
      "\n",
      "Going back to our example paper (\"Critical dynamics in the evolution of stochastic strategies for the iterated prisoner's dilemma\"), we find two references that are commonly cited by the two papers citing it. If you look above to the list of papers our paper cites, you find that actually, the paper itself also cites these same two references, indicating that they are somehow particularly relevant to this line of research."
     ]
    },
    {
     "cell_type": "code",
     "collapsed": false,
     "input": [
      "# Counter built over list of papers cited by papers that cite a given id\n",
      "cocited = Counter([\n",
      "    ref\n",
      "    for citers in papers_citing[ paper_id ]\n",
      "    for ref in cited_by[ citers ]\n",
      "    if ref != paper_id\n",
      "    ])\n",
      "\n",
      "# discard papers cited only once\n",
      "cocited = { id : nr_cocits for (id, nr_cocits) in cocited.iteritems() if nr_cocits > 1 }\n",
      "\n",
      "\n",
      "for (id, times_co_cited) in sorted( cocited.items(), key=lambda i:i[1], reverse=True ):\n",
      "    display_summary( id, ', nr. co-citations: %d' % times_co_cited )"
     ],
     "language": "python",
     "metadata": {},
     "outputs": [
      {
       "html": [
        "<blockquote><a href=http://dx.doi.org/10.1038/364056a0>A strategy of win-stay, lose-shift that outperforms tit-for-tat in the Prisoner's Dilemma game</a><br>Nowak M, Sigmund K<br>1993<br><small>id: 8316296, nr. co-citations: 2</small></blockquote>"
       ],
       "metadata": {},
       "output_type": "display_data",
       "text": [
        "<IPython.core.display.HTML at 0x25673c50>"
       ]
      },
      {
       "html": [
        "<blockquote>The evolution of cooperation<br>Axelrod R, Hamilton WD<br>1981<br><small>id: 7466396, nr. co-citations: 2</small></blockquote>"
       ],
       "metadata": {},
       "output_type": "display_data",
       "text": [
        "<IPython.core.display.HTML at 0x5b1b590>"
       ]
      }
     ],
     "prompt_number": 23
    },
    {
     "cell_type": "markdown",
     "metadata": {},
     "source": [
      "A final implementation note regarding `cited_by`: the way it was built, only papers cited at least once appear as keys in it. With `cited_by` being a [defaultdict](http://docs.python.org/2/library/collections.html#collections.defaultdict), attempts to access a missing element will silently cause it to be added (with an empty list as vale, in this case), instead of raising an exception. Just take note that if you iterate over keys in `cited_by`, you are not iterating over all of the graph's nodes.\n",
      "\n",
      "As an example, here's an isolated node in the graph, an old paper for which we have no citation data (neither to nor from)."
     ]
    },
    {
     "cell_type": "code",
     "collapsed": false,
     "input": [
      "display_summary( Ids[-1] )"
     ],
     "language": "python",
     "metadata": {},
     "outputs": [
      {
       "html": [
        "<blockquote>On the Evolution of Light from the Living Human Subject<br>Marsh H<br>1842<br><small>id: 21373130</small></blockquote>"
       ],
       "metadata": {},
       "output_type": "display_data",
       "text": [
        "<IPython.core.display.HTML at 0x25673d90>"
       ]
      }
     ],
     "prompt_number": 24
    },
    {
     "cell_type": "code",
     "collapsed": false,
     "input": [
      "papers_citing[ 21373130 ]"
     ],
     "language": "python",
     "metadata": {},
     "outputs": [
      {
       "metadata": {},
       "output_type": "pyout",
       "prompt_number": 25,
       "text": [
        "[]"
       ]
      }
     ],
     "prompt_number": 25
    },
    {
     "cell_type": "code",
     "collapsed": false,
     "input": [
      "21373130 in cited_by"
     ],
     "language": "python",
     "metadata": {},
     "outputs": [
      {
       "metadata": {},
       "output_type": "pyout",
       "prompt_number": 26,
       "text": [
        "False"
       ]
      }
     ],
     "prompt_number": 26
    },
    {
     "cell_type": "code",
     "collapsed": false,
     "input": [
      "cited_by[ 21373130 ]"
     ],
     "language": "python",
     "metadata": {},
     "outputs": [
      {
       "metadata": {},
       "output_type": "pyout",
       "prompt_number": 27,
       "text": [
        "[]"
       ]
      }
     ],
     "prompt_number": 27
    },
    {
     "cell_type": "code",
     "collapsed": false,
     "input": [
      "21373130 in cited_by"
     ],
     "language": "python",
     "metadata": {},
     "outputs": [
      {
       "metadata": {},
       "output_type": "pyout",
       "prompt_number": 28,
       "text": [
        "True"
       ]
      }
     ],
     "prompt_number": 28
    },
    {
     "cell_type": "code",
     "collapsed": false,
     "input": [
      "# just to revert to the way things were\n",
      "del cited_by[ 21373130 ]"
     ],
     "language": "python",
     "metadata": {},
     "outputs": [],
     "prompt_number": 29
    },
    {
     "cell_type": "markdown",
     "metadata": {},
     "source": [
      "Should you want to \"lock\" `cited_by`, to make it behave as a regular Python dictionary, just convert it like this:"
     ]
    },
    {
     "cell_type": "code",
     "collapsed": false,
     "input": [
      "cited_by = dict(cited_by)"
     ],
     "language": "python",
     "metadata": {},
     "outputs": [],
     "prompt_number": 30
    },
    {
     "cell_type": "heading",
     "level": 3,
     "metadata": {},
     "source": [
      "Network statistics"
     ]
    },
    {
     "cell_type": "markdown",
     "metadata": {},
     "source": [
      "Now that we have a better understanding about the data we're dealing with, let us obtain some basic statistics about our graph."
     ]
    },
    {
     "cell_type": "code",
     "collapsed": false,
     "input": [
      "print 'Number of core ids %d (100.00 %%)' % len(Ids)\n",
      "\n",
      "with_cit = [ id for id in Ids if papers_citing[id]!=[] ]\n",
      "print 'Number of papers cited at least once: %d (%.2f %%)' % (len(with_cit), 100.*len(with_cit)/len(Ids))\n",
      "\n",
      "isolated = set( id for id in Ids if papers_citing[id]==[] and id not in cited_by )\n",
      "print 'Number of isolated nodes: %d (%.2f %%)\\n\\t'   \\\n",
      "      '(papers that are not cited by any others, nor do themselves cite any in the dataset)'% (\n",
      "    len(isolated), 100.*len(isolated)/len(Ids) )\n",
      "\n",
      "noCit_withRefs = [ id for id in Ids if papers_citing[id]==[] and id in cited_by ]\n",
      "print 'Number of dataset ids with no citations, but known references: %d (%.2f %%)' % (\n",
      "    len(noCit_withRefs), 100.*len(noCit_withRefs)/len(Ids))\n",
      "\n",
      "print '(percentages calculated with respect to just the core ids (members of `Ids`) -- exclude outsider ids)\\n'"
     ],
     "language": "python",
     "metadata": {},
     "outputs": [
      {
       "output_type": "stream",
       "stream": "stdout",
       "text": [
        "Number of core ids 205344 (100.00 %)\n",
        "Number of papers cited at least once: 112185 (54.63 %)"
       ]
      },
      {
       "output_type": "stream",
       "stream": "stdout",
       "text": [
        "\n",
        "Number of isolated nodes: 87837 (42.78 %)\n",
        "\t(papers that are not cited by any others, nor do themselves cite any in the dataset)"
       ]
      },
      {
       "output_type": "stream",
       "stream": "stdout",
       "text": [
        "\n",
        "Number of dataset ids with no citations, but known references: 5322 (2.59 %)"
       ]
      },
      {
       "output_type": "stream",
       "stream": "stdout",
       "text": [
        "\n",
        "(percentages calculated with respect to just the core ids (members of `Ids`) -- exclude outsider ids)\n",
        "\n"
       ]
      }
     ],
     "prompt_number": 31
    },
    {
     "cell_type": "code",
     "collapsed": false,
     "input": [
      "Ids_set    = set( Ids )\n",
      "citing_Ids = set( cited_by.keys() ) # == set( c for citing in papers_citing.itervalues() for c in citing )\n",
      "\n",
      "outsiders = citing_Ids - Ids_set    # set difference: removes from `citing_Ids` all the ids that occur in `Ids_set`\n",
      "nodes     = citing_Ids | Ids_set - isolated     # set union, followed by set difference\n",
      "\n",
      "print 'Number of (non-isolated) nodes in the graph: %d\\n\\t(papers with at least 1 known citation, or 1 known reference)' % len(nodes)\n",
      "print len( citing_Ids ), 'distinct ids are citing papers in our dataset.'\n",
      "print 'Of those, %d (%.2f %%) are ids from outside the dataset.\\n' % ( len(outsiders), 100.*len(outsiders)/len(citing_Ids) )"
     ],
     "language": "python",
     "metadata": {},
     "outputs": [
      {
       "output_type": "stream",
       "stream": "stdout",
       "text": [
        "Number of (non-isolated) nodes in the graph: 547438\n",
        "\t(papers with at least 1 known citation, or 1 known reference)\n",
        "460172 distinct ids are citing papers in our dataset.\n",
        "Of those, 429931 (93.43 %) are ids from outside the dataset.\n",
        "\n"
       ]
      }
     ],
     "prompt_number": 32
    },
    {
     "cell_type": "code",
     "collapsed": false,
     "input": [
      "all_cits      = [ c for citing in papers_citing.itervalues() for c in citing ]\n",
      "outsider_cits = [ c for citing in papers_citing.itervalues() for c in citing if c in outsiders ]\n",
      "\n",
      "print 'Number of links (citations) in the graph:', len(all_cits)\n",
      "print 'A total of %d citations are logged in the dataset.' % len(all_cits)\n",
      "print 'Citations by ids from outside the dataset comprise %d (%.2f %%) of that total.\\n' % (\n",
      "    len(outsider_cits),\n",
      "    100.*len(outsider_cits)/len(all_cits) )"
     ],
     "language": "python",
     "metadata": {},
     "outputs": [
      {
       "output_type": "stream",
       "stream": "stdout",
       "text": [
        "Number of links (citations) in the graph: 1157723\n",
        "A total of 1157723 citations are logged in the dataset.\n",
        "Citations by ids from outside the dataset comprise 890613 (76.93 %) of that total.\n",
        "\n"
       ]
      }
     ],
     "prompt_number": 33
    },
    {
     "cell_type": "heading",
     "level": 4,
     "metadata": {},
     "source": [
      "Most cited papers"
     ]
    },
    {
     "cell_type": "markdown",
     "metadata": {},
     "source": [
      "Let us now find which 10 papers are the most cited in our dataset."
     ]
    },
    {
     "cell_type": "code",
     "collapsed": false,
     "input": [
      "nr_cits_per_paper = [ (id, len(cits)) for (id,cits) in papers_citing.iteritems() ]\n",
      "\n",
      "for (id, cits) in sorted( nr_cits_per_paper, key=lambda i:i[1], reverse=True )[:10]:\n",
      "    display_summary( id, ', nr. citations: <u>%d</u>' % cits )"
     ],
     "language": "python",
     "metadata": {},
     "outputs": [
      {
       "html": [
        "<blockquote><a href=http://dx.doi.org/10.1038/35057062>Initial sequencing and analysis of the human genome</a><br>Lander ES, Linton LM, Birren B, Nusbaum C, Zody MC, ...<br>2001<br><small>id: 11237011, nr. citations: <u>3258</u></small></blockquote>"
       ],
       "metadata": {},
       "output_type": "display_data",
       "text": [
        "<IPython.core.display.HTML at 0x256734d0>"
       ]
      },
      {
       "html": [
        "<blockquote>A simple, fast, and accurate algorithm to estimate large phylogenies by maximum likelihood<br>Guindon S, Gascuel O<br>2003<br><small>id: 14530136, nr. citations: <u>2344</u></small></blockquote>"
       ],
       "metadata": {},
       "output_type": "display_data",
       "text": [
        "<IPython.core.display.HTML at 0x25673e70>"
       ]
      },
      {
       "html": [
        "<blockquote><a href=http://dx.doi.org/10.1093/molbev/msr121>MEGA5: molecular evolutionary genetics analysis using maximum likelihood, evolutionary distance, and maximum parsimony methods</a><br>Tamura K, Peterson D, Peterson N, Stecher G, Nei M, ...<br>2011<br><small>id: 21546353, nr. citations: <u>2092</u></small></blockquote>"
       ],
       "metadata": {},
       "output_type": "display_data",
       "text": [
        "<IPython.core.display.HTML at 0x25673e70>"
       ]
      },
      {
       "html": [
        "<blockquote>MODELTEST: testing the model of DNA substitution<br>Posada D, Crandall KA<br>1998<br><small>id: 9918953, nr. citations: <u>1905</u></small></blockquote>"
       ],
       "metadata": {},
       "output_type": "display_data",
       "text": [
        "<IPython.core.display.HTML at 0x25673e70>"
       ]
      },
      {
       "html": [
        "<blockquote>MEGA3: Integrated software for Molecular Evolutionary Genetics Analysis and sequence alignment<br>Kumar S, Tamura K, Nei M<br>2004<br><small>id: 15260895, nr. citations: <u>1805</u></small></blockquote>"
       ],
       "metadata": {},
       "output_type": "display_data",
       "text": [
        "<IPython.core.display.HTML at 0x25673e70>"
       ]
      },
      {
       "html": [
        "<blockquote><a href=http://dx.doi.org/10.1016/j.cell.2009.01.002>MicroRNAs: target recognition and regulatory functions</a><br>Bartel DP<br>2009<br><small>id: 19167326, nr. citations: <u>1568</u></small></blockquote>"
       ],
       "metadata": {},
       "output_type": "display_data",
       "text": [
        "<IPython.core.display.HTML at 0x25673e70>"
       ]
      },
      {
       "html": [
        "<blockquote><a href=http://dx.doi.org/10.1038/35048692>Analysis of the genome sequence of the flowering plant Arabidopsis thaliana</a><br>Arabidopsis Genome Initiative<br>2000<br><small>id: 11130711, nr. citations: <u>1562</u></small></blockquote>"
       ],
       "metadata": {},
       "output_type": "display_data",
       "text": [
        "<IPython.core.display.HTML at 0x25673e70>"
       ]
      },
      {
       "html": [
        "<blockquote>A simple method for estimating evolutionary rates of base substitutions through comparative studies of nucleotide sequences<br>Kimura M<br>1980<br><small>id: 7463489, nr. citations: <u>1518</u></small></blockquote>"
       ],
       "metadata": {},
       "output_type": "display_data",
       "text": [
        "<IPython.core.display.HTML at 0x25673e70>"
       ]
      },
      {
       "html": [
        "<blockquote><a href=http://dx.doi.org/10.1038/nature01262>Initial sequencing and comparative analysis of the mouse genome</a><br>Mouse Genome Sequencing Consortium, Waterston RH, Lindblad-Toh K, Birney E, Rogers J, ...<br>2002<br><small>id: 12466850, nr. citations: <u>1493</u></small></blockquote>"
       ],
       "metadata": {},
       "output_type": "display_data",
       "text": [
        "<IPython.core.display.HTML at 0x25673e70>"
       ]
      },
      {
       "html": [
        "<blockquote><a href=http://dx.doi.org/10.1038/nature04226>A haplotype map of the human genome</a><br>International HapMap Consortium<br>2005<br><small>id: 16255080, nr. citations: <u>1428</u></small></blockquote>"
       ],
       "metadata": {},
       "output_type": "display_data",
       "text": [
        "<IPython.core.display.HTML at 0x25673e70>"
       ]
      }
     ],
     "prompt_number": 34
    },
    {
     "cell_type": "markdown",
     "metadata": {},
     "source": [
      "The most cited paper in our dataset \"Initial sequencing and analysis of the human genome\", has 3258 citations, which is ~20% of the citations Google Scholar recognizes for it (see [here](http://scholar.google.com/scholar?q=10.1038%2F35057062))."
     ]
    },
    {
     "cell_type": "heading",
     "level": 4,
     "metadata": {},
     "source": [
      "[Degree distribution](https://en.wikipedia.org/wiki/Degree_distribution): Citations (indegree distribution)"
     ]
    },
    {
     "cell_type": "code",
     "collapsed": false,
     "input": [
      "nr_cits = [ len(cits) for cits in papers_citing.itervalues() if cits!=[] ]"
     ],
     "language": "python",
     "metadata": {},
     "outputs": [],
     "prompt_number": 35
    },
    {
     "cell_type": "code",
     "collapsed": false,
     "input": [
      "plt.hist( nr_cits, bins=range(103), histtype='bar', align='left' )\n",
      "plt.xlabel('number of citations')\n",
      "plt.ylabel('number of papers')\n",
      "plt.xlim(0,100);"
     ],
     "language": "python",
     "metadata": {},
     "outputs": [
      {
       "metadata": {},
       "output_type": "display_data",
       "png": "[encoded data removed]",
       "text": [
        "<matplotlib.figure.Figure at 0x25673bd0>"
       ]
      }
     ],
     "prompt_number": 36
    },
    {
     "cell_type": "code",
     "collapsed": false,
     "input": [
      "plt.hist( nr_cits, bins=range(103), histtype='step', align='left', normed=True )\n",
      "plt.xlabel('number of citations')\n",
      "plt.ylabel('fraction of papers')\n",
      "plt.yscale('log')\n",
      "#plt.xscale('log')\n",
      "plt.xlim(0,100);"
     ],
     "language": "python",
     "metadata": {},
     "outputs": [
      {
       "metadata": {},
       "output_type": "display_data",
       "png": "[encoded data removed]",
       "text": [
        "<matplotlib.figure.Figure at 0x25673d70>"
       ]
      }
     ],
     "prompt_number": 37
    },
    {
     "cell_type": "heading",
     "level": 4,
     "metadata": {},
     "source": [
      "[Degree distribution](https://en.wikipedia.org/wiki/Degree_distribution): References (outdegree distribution)"
     ]
    },
    {
     "cell_type": "code",
     "collapsed": false,
     "input": [
      "nr_refs = [ len(refs) for refs in cited_by.itervalues() ]"
     ],
     "language": "python",
     "metadata": {},
     "outputs": [],
     "prompt_number": 38
    },
    {
     "cell_type": "code",
     "collapsed": false,
     "input": [
      "plt.hist( nr_refs, bins=range(23), histtype='bar', align='left' )\n",
      "plt.xlabel('number of references')\n",
      "plt.ylabel('number of papers')\n",
      "plt.xlim(0,20);"
     ],
     "language": "python",
     "metadata": {},
     "outputs": [
      {
       "metadata": {},
       "output_type": "display_data",
       "png": "[encoded data removed]",
       "text": [
        "<matplotlib.figure.Figure at 0x29e91190>"
       ]
      }
     ],
     "prompt_number": 39
    },
    {
     "cell_type": "code",
     "collapsed": false,
     "input": [
      "plt.hist( nr_refs, bins=range(23), histtype='step', align='left', normed=True )\n",
      "plt.xlabel('number of references')\n",
      "plt.ylabel('fraction of papers')\n",
      "plt.yscale('log')\n",
      "#plt.xscale('log')\n",
      "plt.xlim(0,20);"
     ],
     "language": "python",
     "metadata": {},
     "outputs": [
      {
       "metadata": {},
       "output_type": "display_data",
       "png": "[encoded data removed]",
       "text": [
        "<matplotlib.figure.Figure at 0x29d0bff0>"
       ]
      }
     ],
     "prompt_number": 40
    },
    {
     "cell_type": "heading",
     "level": 2,
     "metadata": {},
     "source": [
      "The Six Degrees of Robert Axelrod"
     ]
    },
    {
     "cell_type": "markdown",
     "metadata": {},
     "source": [
      "There's a famous kind of \"game\", involving collaboration networks, that consists in naming the links along the shortest path in the network that connects any given person to a reference one. Famous examples include:\n",
      "\n",
      "* the [Six Degrees of Kevin Bacon](https://en.wikipedia.org/wiki/Six_Degrees_of_Kevin_Bacon), which connects any actor through a chain of movies, eventually ending in Kevin Bacon (try entering different actors in the [Oracle of Bacon](http://oracleofbacon.org/));\n",
      "  * *here's an example from Wikipedia:<br>Elvis Presley was in Change of Habit (1969) with Edward Asner; Edward Asner was in JFK (1991) with Kevin Bacon.*<br>Therefore, Asner has a Bacon number of 1, and Presley a Bacon number of 2.\n",
      "* the [Erd\u0151s number](https://en.wikipedia.org/wiki/Erd%C5%91s_number), which measures a scientist's distance in the co-authorship network to the great Hungarian mathematician [Paul Erd\u0151s](https://en.wikipedia.org/wiki/Paul_Erd%C5%91s).\n",
      "\n",
      "Interesting as those numbers may be, though, they pale in comparison to the one true number, the one that identifies the few truly exceptional individuals: the [Erd\u0151s-Bacon-Sabbath number](http://erdosbaconsabbath.com/)! If you have published a scientific paper, been involved in a movie or TV show, and released a song (and in all three networks there is a path taking you to Paul Erd\u0151s, Kevin Bacon, and the mighty Black Sabbath, respectively), then mankind bows to your greatness. Surprisingly, many people do have such a number (see for instance, [Natalie Portman](http://erdosbaconsabbath.com/natalie-portman/))! You can find [here](http://erdosbaconsabbath.com/category/ebs/) the full list of luminaries for whom an Erd\u0151s-Bacon-Sabbath number has been identified.\n",
      "\n",
      "Unfortunately, neither Paul Erd\u0151s, nor Kevin Bacon nor Black Sabbath are in our dataset, so, if we want to play that game, we need to pick someone else to be our reference node.\n",
      "\n",
      "Given we'll be walking through a network of scientific collaborations, it then seems naturally fitting that we choose [Robert Axelrod](https://en.wikipedia.org/wiki/Robert_Axelrod) as our reference node, given his highly influential work on the [evolution of cooperation](https://en.wikipedia.org/wiki/The_Evolution_of_Cooperation)."
     ]
    },
    {
     "cell_type": "code",
     "collapsed": false,
     "input": [
      "print '%d publications by Robert Axelrod found in the dataset,'  \\\n",
      "      ' authored with a total of %d collaborators,'  \\\n",
      "      ' and cited a total of %d times.' % (\n",
      "    len( papers_of_author['Axelrod R'] ),\n",
      "    len( coauthors['Axelrod R'] ),\n",
      "    sum( len(papers_citing[id]) for id in papers_of_author['Axelrod R'] ) )\n",
      "\n",
      "display_summary( 7466396, ', nr. citations: %d' % len(papers_citing[7466396]) )"
     ],
     "language": "python",
     "metadata": {},
     "outputs": [
      {
       "output_type": "stream",
       "stream": "stdout",
       "text": [
        "7 publications by Robert Axelrod found in the dataset, authored with a total of 8 collaborators, and cited a total of 450 times.\n"
       ]
      },
      {
       "html": [
        "<blockquote>The evolution of cooperation<br>Axelrod R, Hamilton WD<br>1981<br><small>id: 7466396, nr. citations: 281</small></blockquote>"
       ],
       "metadata": {},
       "output_type": "display_data",
       "text": [
        "<IPython.core.display.HTML at 0x29e84850>"
       ]
      }
     ],
     "prompt_number": 41
    },
    {
     "cell_type": "heading",
     "level": 3,
     "metadata": {},
     "source": [
      "Shortest paths"
     ]
    },
    {
     "cell_type": "markdown",
     "metadata": {},
     "source": [
      "Playing the degrees of separation game requires the capacity to traverse the graph in a way that enables efficient identification of the shortest paths between any two given nodes. See the Wikipedia page on the [shortest path problem](https://en.wikipedia.org/wiki/Shortest_path_problem) for different ways of implementing such a search.\n",
      "\n",
      "The code below can be seen as a special case of [Dijkstra's algorithm](https://en.wikipedia.org/wiki/Dijkstra%27s_algorithm). Should you want for some reason to convert our networks into weighted ones (with links having weights indicating somehing like inverse frequency with which two authors collaborate, for instance), then you need to extend the code below into a full implementation of Dijkstra's algorithm.\n",
      "\n",
      "This code uses [deque](http://docs.python.org/2/library/collections.html#collections.deque) objects, a generalization of stacks and queues, that allows for efficient insertions and removals at either end of the sequence."
     ]
    },
    {
     "cell_type": "code",
     "collapsed": false,
     "input": [
      "def shortest_path( graph, node_from, node_to ):\n",
      "    \"\"\"\n",
      "    Performs a breadth-first search on the (unweighted) graph\n",
      "    for the shortest path between two nodes.\n",
      "    \"\"\"\n",
      "    # dictionary indicating our graph traversal at some point visited `node`, coming from node `visited[node]`\n",
      "    visited = { node_from : None }\n",
      "    \n",
      "    # FIFO queue, used to perform a breadth-first expansion of the as-yet unbranched nodes\n",
      "    Q = deque( [ node_from ] )\n",
      "    \n",
      "    while len(Q) > 0:\n",
      "        \n",
      "        u = Q.popleft()\n",
      "        \n",
      "        # final node found. rebuild shortest path between source and destination nodes.\n",
      "        if u == node_to:\n",
      "            at = u\n",
      "            path = deque([ at ])\n",
      "            while True:\n",
      "                at = visited[ at ]\n",
      "                path.appendleft( at )\n",
      "                if at == node_from:\n",
      "                    return path\n",
      "        \n",
      "        # pick those nodes `u` links to, that we haven't encountered yet\n",
      "        n_neighbs = [ n for n in graph[u] if n not in visited ]\n",
      "        \n",
      "        Q.extend( n_neighbs )\n",
      "        for n in n_neighbs:\n",
      "            visited[ n ] = u\n",
      "    \n",
      "    return None  # no path found"
     ],
     "language": "python",
     "metadata": {},
     "outputs": [],
     "prompt_number": 42
    },
    {
     "cell_type": "markdown",
     "metadata": {},
     "source": [
      "In addition to knowking a path (sequence of nodes), we'll also want to know some information about the links that make such path possible."
     ]
    },
    {
     "cell_type": "code",
     "collapsed": false,
     "input": [
      "def show_papers_along_path( authors_path ):\n",
      "    \"\"\"\n",
      "    Given a sequence of authors, such as the one produced by shortest_path(), prints out\n",
      "    one selected paper co-authored by each consecutive pair of authors in the sequence.\n",
      "    The most cited publication from each collaboration is selected for display.\n",
      "    \"\"\"\n",
      "    a1 = None\n",
      "    for a2 in authors_path:\n",
      "        \n",
      "        if a1 is None:\n",
      "            a1 = a2\n",
      "            continue\n",
      "        \n",
      "        # find the most cited paper coauthored by `a1` and `a2`\n",
      "        collab = max( papers_of_author[a1] & papers_of_author[a2], key=lambda i:len(papers_citing[i]) )\n",
      "        \n",
      "        display_summary( collab, ', nr. citations: %d, collaboration between %s and %s' % ( len(papers_citing[collab]), a1, a2 ) )\n",
      "        \n",
      "        a1 = a2"
     ],
     "language": "python",
     "metadata": {},
     "outputs": [],
     "prompt_number": 43
    },
    {
     "cell_type": "markdown",
     "metadata": {},
     "source": [
      "Using the above code, we can now query for an author's Axelrod number, and list the sequence of links along the sortest path between them."
     ]
    },
    {
     "cell_type": "code",
     "collapsed": false,
     "input": [
      "author = 'Adami C'\n",
      "#author = 'Nowak MA'\n",
      "path = shortest_path( coauthors, author, 'Axelrod R' )\n",
      "print '%s has an Axelrod number of %d.' % (author, len(path)-1)\n",
      "path"
     ],
     "language": "python",
     "metadata": {},
     "outputs": [
      {
       "output_type": "stream",
       "stream": "stdout",
       "text": [
        "Adami C has an Axelrod number of 4.\n"
       ]
      },
      {
       "metadata": {},
       "output_type": "pyout",
       "prompt_number": 44,
       "text": [
        "deque(['Adami C', 'Lenski RE', 'Ebert D', 'Hamilton WD', 'Axelrod R'])"
       ]
      }
     ],
     "prompt_number": 44
    },
    {
     "cell_type": "code",
     "collapsed": false,
     "input": [
      "show_papers_along_path( path )"
     ],
     "language": "python",
     "metadata": {},
     "outputs": [
      {
       "html": [
        "<blockquote><a href=http://dx.doi.org/10.1038/35085569>Evolution of digital organisms at high mutation rates leads to survival of the flattest</a><br>Wilke CO, Wang JL, Ofria C, Lenski RE, Adami C<br>2001<br><small>id: 11460163, nr. citations: 84, collaboration between Adami C and Lenski RE</small></blockquote>"
       ],
       "metadata": {},
       "output_type": "display_data",
       "text": [
        "<IPython.core.display.HTML at 0x29f32d30>"
       ]
      },
      {
       "html": [
        "<blockquote><a href=http://dx.doi.org/10.1098/rspb.1996.0107>The curse of the pharaoh: the evolution of virulence in pathogens with long living propagules</a><br>Bonhoeffer S, Lenski RE, Ebert D<br>1996<br><small>id: 8763793, nr. citations: 17, collaboration between Lenski RE and Ebert D</small></blockquote>"
       ],
       "metadata": {},
       "output_type": "display_data",
       "text": [
        "<IPython.core.display.HTML at 0x29f325d0>"
       ]
      },
      {
       "html": [
        "<blockquote>Sex against virulence: the coevolution of parasitic diseases<br>Ebert D, Hamilton WD<br>1996<br><small>id: 21237766, nr. citations: 22, collaboration between Ebert D and Hamilton WD</small></blockquote>"
       ],
       "metadata": {},
       "output_type": "display_data",
       "text": [
        "<IPython.core.display.HTML at 0x29f325d0>"
       ]
      },
      {
       "html": [
        "<blockquote>The evolution of cooperation<br>Axelrod R, Hamilton WD<br>1981<br><small>id: 7466396, nr. citations: 281, collaboration between Hamilton WD and Axelrod R</small></blockquote>"
       ],
       "metadata": {},
       "output_type": "display_data",
       "text": [
        "<IPython.core.display.HTML at 0x29f325d0>"
       ]
      }
     ],
     "prompt_number": 45
    }
   ],
   "metadata": {}
  }
 ]
}
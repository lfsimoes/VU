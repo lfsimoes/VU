{
 "metadata": {
  "name": ""
 },
 "nbformat": 3,
 "nbformat_minor": 0,
 "worksheets": [
  {
   "cells": [
    {
     "cell_type": "heading",
     "level": 1,
     "metadata": {},
     "source": [
      "*Keywords* dataset"
     ]
    },
    {
     "cell_type": "markdown",
     "metadata": {},
     "source": [
      "[Lu\u00eds F. Sim\u00f5es](mailto:luis.simoes@vu.nl)<br>\n",
      "2013-11-26<div style=\"float: right\">`Notebooks:` [index &uarr;](https://github.com/lfsimoes/VU/tree/master/2013__Collective_Intelligence)</div><br><br>\n",
      "\n",
      "*******"
     ]
    },
    {
     "cell_type": "markdown",
     "metadata": {},
     "source": [
      "As you can see on the [Building the \"evolution\" research papers dataset](http://nbviewer.ipython.org/urls/raw.github.com/lfsimoes/VU/master/2013__Collective_Intelligence/11__Entrez__building_dataset.ipynb#EFetch:-Downloading-full-records-from-Entrez) notebook, one of the fields retrieved by `Entrez.efetch()` is a `KeywordList`. Keywords are sometimes provided by authors, next to papers' abstracts, as a way of categorizing the research work presented in the paper. Here we will build a *Keywords* dataset, mapping each PubMed ID in our core dataset, to its list of keywords (if available)."
     ]
    },
    {
     "cell_type": "code",
     "collapsed": false,
     "input": [
      "from Bio import Entrez\n",
      "\n",
      "# NCBI requires you to set your email address to make use of NCBI's E-utilities\n",
      "Entrez.email = \"Your.Name.Here@example.org\""
     ],
     "language": "python",
     "metadata": {},
     "outputs": [],
     "prompt_number": 1
    },
    {
     "cell_type": "code",
     "collapsed": false,
     "input": [
      "import os, cPickle, bz2\n",
      "from collections import *\n",
      "\n",
      "# data format used in Python object serialization\n",
      "pickle_protocol = 2"
     ],
     "language": "python",
     "metadata": {},
     "outputs": [],
     "prompt_number": 2
    },
    {
     "cell_type": "code",
     "collapsed": false,
     "input": [
      "search_term = 'evolution'"
     ],
     "language": "python",
     "metadata": {},
     "outputs": [],
     "prompt_number": 3
    },
    {
     "cell_type": "code",
     "collapsed": false,
     "input": [
      "Ids_file = search_term + '__Ids.pkl.bz2'\n",
      "\n",
      "Ids = cPickle.load( bz2.BZ2File( Ids_file, 'rb' ) )"
     ],
     "language": "python",
     "metadata": {},
     "outputs": [],
     "prompt_number": 4
    },
    {
     "cell_type": "code",
     "collapsed": false,
     "input": [
      "def conv_str( s ):\n",
      "    return unicode(s) if isinstance(s, unicode) else str(s)"
     ],
     "language": "python",
     "metadata": {},
     "outputs": [],
     "prompt_number": 5
    },
    {
     "cell_type": "markdown",
     "metadata": {},
     "source": [
      "*******"
     ]
    },
    {
     "cell_type": "code",
     "collapsed": false,
     "input": [
      "Keywords_file = search_term + '__Keywords.pkl.bz2'"
     ],
     "language": "python",
     "metadata": {},
     "outputs": [],
     "prompt_number": 6
    },
    {
     "cell_type": "code",
     "collapsed": false,
     "input": [
      "import httplib, urllib2\n",
      "from collections import deque\n",
      "\n",
      "if os.path.exists( Keywords_file ):\n",
      "    Keywords = cPickle.load( bz2.BZ2File( Keywords_file, 'rb' ) )\n",
      "else:\n",
      "    # `Keywords` will be incrementally assembled, by performing multiple queries,\n",
      "    # each returning at most `retrieve_per_query` entries.\n",
      "    Keywords = deque()\n",
      "    retrieve_per_query = 200\n",
      "    \n",
      "    print 'Fetching Keywords of results: ',\n",
      "    for start in xrange( 0, len(Ids), retrieve_per_query ):\n",
      "        print start,\n",
      "        \n",
      "        # build comma separated string with the ids at indexes [start, start+retrieve_per_query)\n",
      "        query_ids = ','.join( [ str(id) for id in Ids[ start : start+retrieve_per_query ] ] )\n",
      "        \n",
      "        # issue requests to the server, until we get the full amount of data we expect\n",
      "        while True:\n",
      "            try:\n",
      "                s = Entrez.read( Entrez.efetch(db=\"pubmed\", id=query_ids, retmode=\"xml\" ) )\n",
      "            except (httplib.IncompleteRead, httplib.BadStatusLine, urllib2.HTTPError):\n",
      "                print 'r',\n",
      "                continue\n",
      "            break\n",
      "        \n",
      "        for p in s:\n",
      "            key  = 'MedlineCitation' if 'MedlineCitation' in p else 'BookDocument'\n",
      "            pmid = p[key]['PMID']\n",
      "            kws  = p[key]['KeywordList']\n",
      "            if kws != []:\n",
      "                kws  = [ conv_str(kw).lower() for kw in kws[0] ]\n",
      "            \n",
      "            Keywords.append( (int(pmid), kws) )\n",
      "    \n",
      "    # Save Keywords, as a dictionary indexed by Ids\n",
      "    Keywords = dict( Keywords )\n",
      "    \n",
      "    cPickle.dump( Keywords, bz2.BZ2File( Keywords_file, 'wb' ), protocol=pickle_protocol )"
     ],
     "language": "python",
     "metadata": {},
     "outputs": [],
     "prompt_number": 7
    },
    {
     "cell_type": "markdown",
     "metadata": {},
     "source": [
      "Building the reverse mapping:"
     ]
    },
    {
     "cell_type": "code",
     "collapsed": false,
     "input": [
      "from collections import defaultdict\n",
      "\n",
      "papers_with_keyword = defaultdict(set)\n",
      "\n",
      "for pid,ks in Keywords.iteritems():\n",
      "    for k in ks:\n",
      "        papers_with_keyword[ k ].add( pid )"
     ],
     "language": "python",
     "metadata": {},
     "outputs": [],
     "prompt_number": 8
    },
    {
     "cell_type": "markdown",
     "metadata": {},
     "source": [
      "Basic dataset statistics:"
     ]
    },
    {
     "cell_type": "code",
     "collapsed": false,
     "input": [
      "with_kws = sum(1 for k in Keywords.itervalues() if k!=[])\n",
      "print '%d papers (%.2f %%) have keywords data' % (with_kws, 100.*with_kws/len(Keywords))"
     ],
     "language": "python",
     "metadata": {},
     "outputs": [
      {
       "output_type": "stream",
       "stream": "stdout",
       "text": [
        "9461 papers (4.61 %) have keywords data\n"
       ]
      }
     ],
     "prompt_number": 9
    },
    {
     "cell_type": "code",
     "collapsed": false,
     "input": [
      "print '%d keywords used in total' % len(papers_with_keyword)"
     ],
     "language": "python",
     "metadata": {},
     "outputs": [
      {
       "output_type": "stream",
       "stream": "stdout",
       "text": [
        "25091 keywords used in total\n"
       ]
      }
     ],
     "prompt_number": 10
    },
    {
     "cell_type": "markdown",
     "metadata": {},
     "source": [
      "Finding the 50 most used keywords:"
     ]
    },
    {
     "cell_type": "code",
     "collapsed": false,
     "input": [
      "uses_per_keyword = sorted( [ (k,len(v)) for k,v in papers_with_keyword.iteritems()], key=lambda i:i[1] )\n",
      "uses_per_keyword[-50:]"
     ],
     "language": "python",
     "metadata": {},
     "outputs": [
      {
       "metadata": {},
       "output_type": "pyout",
       "prompt_number": 11,
       "text": [
        "[('cancer', 60),\n",
        " ('genetics and reproduction', 61),\n",
        " ('delivery of health care', 63),\n",
        " ('genetics', 64),\n",
        " ('studies', 64),\n",
        " ('biomedical and behavioral research', 66),\n",
        " ('population growth', 67),\n",
        " ('population policy', 69),\n",
        " ('historical survey', 71),\n",
        " ('physiology', 71),\n",
        " ('macroeconomic factors', 72),\n",
        " ('economic development', 76),\n",
        " ('history', 76),\n",
        " ('mortality', 79),\n",
        " ('northern america', 79),\n",
        " ('asia', 80),\n",
        " ('biology', 83),\n",
        " ('organization and administration', 84),\n",
        " ('behavior', 85),\n",
        " ('social policy', 86),\n",
        " ('nasa program exobiology', 93),\n",
        " ('africa', 93),\n",
        " ('fertility', 95),\n",
        " ('mediterranean countries', 95),\n",
        " ('spatial distribution', 95),\n",
        " ('policy', 97),\n",
        " ('health', 97),\n",
        " ('age factors', 98),\n",
        " ('diseases', 107),\n",
        " ('family planning', 108),\n",
        " ('phylogeny', 108),\n",
        " ('latin america', 108),\n",
        " ('migration', 110),\n",
        " ('experimental lab study', 121),\n",
        " ('geographic factors', 123),\n",
        " ('socioeconomic factors', 124),\n",
        " ('north america', 126),\n",
        " ('europe', 145),\n",
        " ('americas', 172),\n",
        " ('population characteristics', 189),\n",
        " ('research methodology', 204),\n",
        " ('economic factors', 245),\n",
        " ('nasa discipline exobiology', 255),\n",
        " ('developed countries', 277),\n",
        " ('non-nasa center', 298),\n",
        " ('developing countries', 310),\n",
        " ('population dynamics', 325),\n",
        " ('demographic factors', 383),\n",
        " ('population', 422),\n",
        " ('evolution', 605)]"
       ]
      }
     ],
     "prompt_number": 11
    },
    {
     "cell_type": "markdown",
     "metadata": {},
     "source": [
      "Finding the paper tagged with the greatest number of keywords:"
     ]
    },
    {
     "cell_type": "code",
     "collapsed": false,
     "input": [
      "max( Keywords.iteritems(), key=lambda i:len(i[1]) )"
     ],
     "language": "python",
     "metadata": {},
     "outputs": [
      {
       "metadata": {},
       "output_type": "pyout",
       "prompt_number": 12,
       "text": [
        "(24012599,\n",
        " [u'2\\u2032-deoxy-p-nucleoside-5\\u2032-triphosphate',\n",
        "  u'2\\u2032-deoxyinosine 5\\u2032-triphosphate',\n",
        "  '7-deaza-7-(triethylsilylethynyl)deoxyadenosine triphosphate',\n",
        "  u'8-oxo-2\\u2032-deoxyguanosine-5\\u2032-triphosphate',\n",
        "  '8-oxo-dgtp',\n",
        "  'aav',\n",
        "  'abi-rec',\n",
        "  'adeno-associated virus',\n",
        "  'asymmetric bridge pcr with intramolecular homologous recombination',\n",
        "  'base pairs',\n",
        "  'cast',\n",
        "  'cpec',\n",
        "  'crp',\n",
        "  'circular polymerase extension cloning',\n",
        "  'combinatorial active-site saturation test',\n",
        "  'dgrs',\n",
        "  'dna',\n",
        "  'dna recombination',\n",
        "  'deoxyribonucleic acid',\n",
        "  'deoxyribonucleotide triphosphate',\n",
        "  'directed evolution',\n",
        "  'diversity-generating retroelements',\n",
        "  'double-stranded dna',\n",
        "  'duarchem',\n",
        "  'dual approach to random chemical mutagenesis',\n",
        "  'emp',\n",
        "  'ems',\n",
        "  'enoyl-acyl carrier protein reductase',\n",
        "  'error-prone polymerase chain reaction',\n",
        "  'error-prone rolling circle amplification',\n",
        "  'ethyl methane sulfonate',\n",
        "  'exponential megapriming pcr',\n",
        "  'goi',\n",
        "  'gst',\n",
        "  'gene of interest',\n",
        "  'genetic diversity',\n",
        "  'genome engineering',\n",
        "  'glutathione-s-transferase',\n",
        "  'itchy',\n",
        "  'indel',\n",
        "  'incremental truncation for the creation of hybrid enzymes',\n",
        "  'insertion and deletion',\n",
        "  'kf',\n",
        "  'klenow fragment',\n",
        "  'map',\n",
        "  'megawhop',\n",
        "  'mgs',\n",
        "  'mlf-sdm',\n",
        "  'megaprimed and ligase-free pcr-based method for site-directed mutagenesis',\n",
        "  'megaprimer pcr of whole plasmid',\n",
        "  'metabolic engineering',\n",
        "  'mutagenesis assistant program',\n",
        "  'mutation generation system',\n",
        "  'neb',\n",
        "  'nrr',\n",
        "  'new england biolabs',\n",
        "  'nide',\n",
        "  'nicking dna endonuclease',\n",
        "  'non-homologous random recombination',\n",
        "  'nucleotide',\n",
        "  'olta',\n",
        "  'oscarr',\n",
        "  'one-pot simple methodology for casette randomization and recombination',\n",
        "  'overlap extension pcr and ta cloning',\n",
        "  'pcr',\n",
        "  'pcr production of circular plasmid',\n",
        "  'permute',\n",
        "  'permutation using transposase engineering',\n",
        "  'pflf-msdm',\n",
        "  'plicing',\n",
        "  'ppcp',\n",
        "  'ps',\n",
        "  'ptrec',\n",
        "  'phosphorothioate',\n",
        "  'phosphorothioate-based dna recombination',\n",
        "  'phosphorothioate-based ligase-independent gene cloning',\n",
        "  'phosphorylation-free and ligase-free pcr-based method for multiple sdm',\n",
        "  'polymerase chain reaction',\n",
        "  'rca',\n",
        "  'res',\n",
        "  'rf cloning',\n",
        "  'rgen',\n",
        "  'rna-guided endonuclease',\n",
        "  'random mutagenesis',\n",
        "  'restriction enzymes',\n",
        "  'restriction-free cloning',\n",
        "  'rolling circle amplification',\n",
        "  'sdm',\n",
        "  'sefc',\n",
        "  'shiprec',\n",
        "  'slice',\n",
        "  'sprinp',\n",
        "  'stru-cloning',\n",
        "  'sesam',\n",
        "  'seamless enzyme-free cloning',\n",
        "  'seamless ligation cloning extract',\n",
        "  'sequence homology-independent protein recombination',\n",
        "  'sequence saturation mutagenesis',\n",
        "  'single-primer reactions in parallel',\n",
        "  'single-tube restriction-based ultrafiltration cloning',\n",
        "  'single-stranded dna',\n",
        "  'site-directed mutagenesis',\n",
        "  'step',\n",
        "  'staggered extension process',\n",
        "  'synthetic biology',\n",
        "  't(s)',\n",
        "  't(v)',\n",
        "  'talens',\n",
        "  'tam',\n",
        "  'tim',\n",
        "  'tmgs-pcr',\n",
        "  'tpcr',\n",
        "  'trins',\n",
        "  'tagteam',\n",
        "  'tandem repeat insertion',\n",
        "  'targeting glycosylases to embedded arrays for mutagenesis',\n",
        "  'transcription activator-like effector nucleases',\n",
        "  'transcription-associated mutation',\n",
        "  'transfer-pcr',\n",
        "  'transitions',\n",
        "  'transposon integration mediated mutagenesis',\n",
        "  'transversions',\n",
        "  'trinex',\n",
        "  'trinucleotide exchange',\n",
        "  'truncated metagenomic gene-specific pcr',\n",
        "  'udg',\n",
        "  'user friendly dna recombination',\n",
        "  'userec',\n",
        "  'uracil-dna glycosylase',\n",
        "  'zfn',\n",
        "  'zinc finger nuclease',\n",
        "  'bp',\n",
        "  'camp receptor protein',\n",
        "  'da(tese)tp',\n",
        "  'ditp',\n",
        "  'dntp',\n",
        "  'dptp',\n",
        "  'dsdna',\n",
        "  'enoyl acp reductase',\n",
        "  'eppcr',\n",
        "  'eprca',\n",
        "  'nt',\n",
        "  'p-benzoylphenylalanine',\n",
        "  'pbpa',\n",
        "  'ssdna'])"
       ]
      }
     ],
     "prompt_number": 12
    },
    {
     "cell_type": "markdown",
     "metadata": {},
     "source": [
      "The PubMed ID 24012599 corresponds to the paper [Polishing the craft of genetic diversity creation in directed evolution](http://www.ncbi.nlm.nih.gov/pubmed/?term=24012599)."
     ]
    },
    {
     "cell_type": "markdown",
     "metadata": {},
     "source": [
      "*******"
     ]
    },
    {
     "cell_type": "code",
     "collapsed": false,
     "input": [
      "import matplotlib.pyplot as plt\n",
      "\n",
      "# show plots inline within the notebook\n",
      "%matplotlib inline\n",
      "# set plots' resolution\n",
      "plt.rcParams['savefig.dpi'] = 100"
     ],
     "language": "python",
     "metadata": {},
     "outputs": [],
     "prompt_number": 13
    },
    {
     "cell_type": "markdown",
     "metadata": {},
     "source": [
      "How many papers use a given number of keywords?\n",
      "\n",
      "Only papers containing at least one keyword are considered in the plot below."
     ]
    },
    {
     "cell_type": "code",
     "collapsed": false,
     "input": [
      "plt.hist( [ len(ks) for ks in Keywords.itervalues() if len(ks)>0 ], bins=range(60), align='left' )\n",
      "plt.xlabel( 'Number of keywords in a certain paper' )\n",
      "plt.ylabel( 'Number of papers' )\n",
      "#plt.yscale('log')\n",
      "plt.xlim(0,50);"
     ],
     "language": "python",
     "metadata": {},
     "outputs": [
      {
       "metadata": {},
       "output_type": "display_data",
       "png": "[encoded data removed]",
       "text": [
        "<matplotlib.figure.Figure at 0x52b6250>"
       ]
      }
     ],
     "prompt_number": 14
    },
    {
     "cell_type": "markdown",
     "metadata": {},
     "source": [
      "How many keywords are used in a given number of papers?"
     ]
    },
    {
     "cell_type": "code",
     "collapsed": false,
     "input": [
      "plt.hist( [kwus[1] for kwus in uses_per_keyword], bins=range(25), histtype='step', align='left' )\n",
      "plt.xlabel( 'Number of papers using a certain keyword' )\n",
      "plt.ylabel( 'Number of keywords' )\n",
      "plt.yscale('log')\n",
      "plt.xlim(0,20);"
     ],
     "language": "python",
     "metadata": {},
     "outputs": [
      {
       "metadata": {},
       "output_type": "display_data",
       "png": "[encoded data removed]",
       "text": [
        "<matplotlib.figure.Figure at 0x52b62f0>"
       ]
      }
     ],
     "prompt_number": 15
    },
    {
     "cell_type": "markdown",
     "metadata": {},
     "source": [
      "We see above, for instance, that there are ~1000 keywords which are used in only 3 papers."
     ]
    },
    {
     "cell_type": "markdown",
     "metadata": {},
     "source": [
      "*******"
     ]
    }
   ],
   "metadata": {}
  }
 ]
}